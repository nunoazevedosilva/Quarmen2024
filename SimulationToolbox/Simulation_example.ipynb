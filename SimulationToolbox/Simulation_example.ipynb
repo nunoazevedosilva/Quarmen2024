{
 "cells": [
  {
   "cell_type": "code",
   "execution_count": 1,
   "metadata": {},
   "outputs": [],
   "source": [
    "%load_ext autoreload\n",
    "%autoreload 2\n",
    "\n",
    "import numpy as np\n",
    "import sys\n",
    "sys.path.append('/solver/')\n",
    "import solver\n",
    "\n",
    "from solver.Mesh import *\n",
    "from solver.SolverField import *\n",
    "from solver.aux_solver import *\n",
    "from solver.SbnSolver import *\n",
    "from solver.DigitalTwin import *"
   ]
  },
  {
   "cell_type": "markdown",
   "metadata": {},
   "source": [
    "# 1. Simulation of 2 laser beams propagating inside an SBN crystal"
   ]
  },
  {
   "cell_type": "code",
   "execution_count": 2,
   "metadata": {},
   "outputs": [
    {
     "name": "stdout",
     "output_type": "stream",
     "text": [
      "Available Backends ->  ('cuda', 'opencl')\n",
      "ArrayFire v3.6.1 (CUDA 64bit)\n",
      "[0] : GeForce_GTX_1050 (Compute 6.1)\n",
      "\n"
     ]
    }
   ],
   "source": [
    "### arrayfire configuration\n",
    "print('Available Backends -> ', af.get_available_backends())\n",
    "\n",
    "###set backend and device\n",
    "af.set_backend('cuda')\n",
    "af.set_device(0)\n",
    "\n",
    "###print info\n",
    "print(af.info_str())\n"
   ]
  },
  {
   "cell_type": "markdown",
   "metadata": {},
   "source": [
    "## 1.1. Some Auxiliary Functions"
   ]
  },
  {
   "cell_type": "code",
   "execution_count": 3,
   "metadata": {},
   "outputs": [],
   "source": [
    "def phase_slip(x,y,A,w,x0,y0,vx,vy,width):\n",
    "    new_field = A*np.exp(-(2*((x - x0)*(x - x0)+ (y - y0)*(y - y0)) / (w*w))**4) *np.exp((\n",
    "                         ((x-x0)<0)*1j*np.pi))\n",
    "    \n",
    "    return new_field\n",
    "\n",
    "def super_gauss(x,y,A,w,x0,y0,vx,vy,width,phase=0,x00=0,y00=0):\n",
    "    aux = (((x - x0)*(x - x0)+ (y - y0)*(y - y0)) <= ( 0.8**2* (w*w)))\n",
    "    new_field = A*np.exp(-(2*((x - x0)*(x - x0)+ (y - y0)*(y - y0)) / (w*w))**2)+1e-6\n",
    "    new_field = new_field * (np.exp((1j*((vx*(x-x00))+(vy*(y-y00)))*aux)+1j*phase))\n",
    "    return new_field\n",
    "\n",
    "def whitenoise_2d_field_1(x,A):\n",
    "    new_field = A*(0.5-np.random.rand(x.shape[0],x.shape[1]))*2         \n",
    "    return new_field\n",
    "\n",
    "def whitenoise_2d_field(x,A):\n",
    "    new_field = np.random.normal(0,scale=A, size=(x.shape[0],x.shape[1]))#\n",
    "    return new_field\n",
    "\n",
    "def whitenoise_1d_field(x,A):\n",
    "    new_field = np.random.normal(0,scale=A, size=(x.shape[0]))#\n",
    "    return new_field\n",
    "\n",
    "\n",
    "def periodic_noise(y,A,k):\n",
    "    new_field = A*np.sin(k*y)    \n",
    "    return new_field"
   ]
  },
  {
   "cell_type": "markdown",
   "metadata": {},
   "source": [
    "## 1.2. Configure Simulator and run"
   ]
  },
  {
   "cell_type": "markdown",
   "metadata": {},
   "source": [
    "$$ i \\partial_z E_{1} + \\frac{1}{2} \\nabla ^{2}_{\\perp} E_{1} + c_{1} \\Delta n_{max} \\frac{|E_1|^2 + |E_2|^2}{I_{sat}+|E_1|^2 + |E_2|^2} E_1+ \\alpha E_1 = 0$$\n",
    "$$ i \\partial_z E_{2} + \\frac{1}{2\\gamma} \\nabla ^{2}_{\\perp} E_{2} + c_{2} \\Delta n_{max} \\gamma \\frac{|E_1|^2 + |E_2|^2}{I_{sat}+|E_1|^2 + |E_2|^2} E_2+ \\alpha E_2 = 0$$\n",
    "\n",
    "![image](image.png)\n",
    "\n",
    "$\\Delta n_{max} = \\frac{1}{2}n_{e}^{3}V/d$ with $d=5mm$ being the crystal width. The typical crystal length is around 2cm."
   ]
  },
  {
   "cell_type": "markdown",
   "metadata": {},
   "source": [
    "## 1.3. Setting up a 1D simulation"
   ]
  },
  {
   "cell_type": "code",
   "execution_count": 4,
   "metadata": {},
   "outputs": [
    {
     "name": "stdout",
     "output_type": "stream",
     "text": [
      "delta_n -> 0.0001235560064\n",
      "lx -> 302.4397292938621\n",
      "ly -> 226.81088976051322\n",
      "lz -> 58.37032210723811\n",
      "healing length - > 7.012273216965854e-05\n",
      "dx-> 0.5907025962770744 dy-> 226.81088976051322\n",
      "total steps to simulate -> 583\n",
      "(512,)\n",
      "(512,)\n",
      "sound velocity 0.4472135954999579 0.0\n"
     ]
    },
    {
     "data": {
      "image/png": "[encoded data removed]",
      "text/plain": [
       "<Figure size 360x360 with 4 Axes>"
      ]
     },
     "metadata": {
      "needs_background": "light"
     },
     "output_type": "display_data"
    }
   ],
   "source": [
    "# Simulation Box to match experiment\n",
    "pixel_pitch = 1.25e-6\n",
    "magnification = 200/60\n",
    "x_camera = np.arange(0,4000)*pixel_pitch  #micrometers\n",
    "y_camera = np.arange(0,3000)*pixel_pitch\n",
    "\n",
    "\n",
    "## Crystal\n",
    "lx=x_camera[-1]/ magnification\n",
    "ly=y_camera[-1]/ magnification\n",
    "lz=20e-3\n",
    "n_passages = 2  ###modify to increase the propagtion length\n",
    "\n",
    "## start digital twin model\n",
    "c1 = 1 #rxx / r33\n",
    "c2 = 1 # rxx / r33\n",
    "V=400\n",
    "Isat = 200 #mW/cm2\n",
    "\n",
    "\n",
    "###initialize the system\n",
    "SBN_sim = DigitalTwin(lx=lx,ly=ly,lz=n_passages * lz,\n",
    "                      V=V,c1=c1,c2=c2,Isat=Isat,\n",
    "                      alpha=0)\n",
    "\n",
    "\n",
    "###Save data dir \n",
    "saveDir = r'E:\\\\Quarmen\\\\'\n",
    "\n",
    "SBN_sim.start_simulation_config(Nx=512,Ny=1,dz=0.01,dims=1,save_dir=saveDir,stride=10) ###dims = 1 as a 1d simulation\n",
    "\n",
    "\n",
    "#######################################################################################\n",
    "#############State Initialization######################################################\n",
    "#######################################################################################\n",
    "\n",
    "If1=40 #mw/cm^2\n",
    "\n",
    "factor_t = SBN_sim.factor_t\n",
    "\n",
    "SUPER_GAUSS_EXP = 4\n",
    "\n",
    "X, Y = SBN_sim.xx, SBN_sim.yy\n",
    "X -= X.max()/2\n",
    "Y -= Y.max()/2\n",
    "\n",
    "\n",
    "########################################################\n",
    "#################   E1    ##############################\n",
    "########################################################\n",
    "\n",
    "velocity = 0.0e4 *(200/60) / factor_t \n",
    "\n",
    "gaussian_beam = np.zeros(np.shape(X)) + 0j\n",
    "\n",
    "wx1 = 800e-6 * factor_t  ### micrometers * factor_t\n",
    "wy1 = 800e-6 * factor_t\n",
    "\n",
    "x_pos = 0\n",
    "y_pos = 0\n",
    "\n",
    "gaussian_beam += np.exp(-((2.0* (\n",
    "                        (X - x_pos) ** 2.0 / (wx1**2.0)\n",
    "                    +   (Y - y_pos) ** 2.0 / (wy1**2.0)\n",
    "                        ))** SUPER_GAUSS_EXP)) + 0.00000000000000000001 + 0j\n",
    "\n",
    "gaussian_beam*=np.exp(1j*velocity*X)\n",
    "\n",
    "gaussian_beam*=np.sqrt(If1)\n",
    "\n",
    "##add white noise\n",
    "A_noise=0.05\n",
    "try:\n",
    "    gaussian_beam = gaussian_beam*(1+whitenoise_2d_field(X,A_noise))\n",
    "except:\n",
    "    gaussian_beam = gaussian_beam*(1+whitenoise_1d_field(X,A_noise))\n",
    "SBN_sim.field1.add_field_numpy(gaussian_beam)\n",
    "\n",
    "\n",
    "########################################################\n",
    "#################   E2    ##############################\n",
    "########################################################\n",
    "\n",
    "\n",
    "If2=0\n",
    "\n",
    "v2 = 0\n",
    "\n",
    "gaussian_beam = np.zeros(np.shape(X)) + 0j\n",
    "\n",
    "print(\"sound velocity\", np.sqrt(If1/Isat), velocity)\n",
    "\n",
    "gaussian_beam*=np.sqrt(If2)\n",
    "A_noise=0.02\n",
    "try:\n",
    "    gaussian_beam = gaussian_beam*(1+whitenoise_2d_field(X,A_noise))\n",
    "except:\n",
    "    gaussian_beam = gaussian_beam*(1+whitenoise_1d_field(X,A_noise))\n",
    "\n",
    "\n",
    "SBN_sim.field2.add_field_numpy(gaussian_beam)\n",
    "\n",
    "SBN_sim.plot()"
   ]
  },
  {
   "cell_type": "code",
   "execution_count": 6,
   "metadata": {},
   "outputs": [
    {
     "name": "stdout",
     "output_type": "stream",
     "text": [
      "Stride 0 of 583\n",
      "Stride 1 of 583\n",
      "Stride 2 of 583\n",
      "Stride 3 of 583\n",
      "Stride 4 of 583\n",
      "Stride 5 of 583\n",
      "Stride 6 of 583\n",
      "Stride 7 of 583\n",
      "Stride 8 of 583\n",
      "Stride 9 of 583\n",
      "Stride 10 of 583\n",
      "Stride 11 of 583\n",
      "Stride 12 of 583\n",
      "Stride 13 of 583\n",
      "Stride 14 of 583\n",
      "Stride 15 of 583\n",
      "Stride 16 of 583\n",
      "Stride 17 of 583\n",
      "Stride 18 of 583\n",
      "Stride 19 of 583\n",
      "Stride 20 of 583\n",
      "Stride 21 of 583\n",
      "Stride 22 of 583\n",
      "Stride 23 of 583\n",
      "Stride 24 of 583\n",
      "Stride 25 of 583\n",
      "Stride 26 of 583\n",
      "Stride 27 of 583\n",
      "Stride 28 of 583\n",
      "Stride 29 of 583\n",
      "Stride 30 of 583\n",
      "Stride 31 of 583\n",
      "Stride 32 of 583\n",
      "Stride 33 of 583\n",
      "Stride 34 of 583\n",
      "Stride 35 of 583\n",
      "Stride 36 of 583\n",
      "Stride 37 of 583\n",
      "Stride 38 of 583\n",
      "Stride 39 of 583\n",
      "Stride 40 of 583\n",
      "Stride 41 of 583\n",
      "Stride 42 of 583\n",
      "Stride 43 of 583\n",
      "Stride 44 of 583\n",
      "Stride 45 of 583\n",
      "Stride 46 of 583\n",
      "Stride 47 of 583\n",
      "Stride 48 of 583\n",
      "Stride 49 of 583\n",
      "Stride 50 of 583\n",
      "Stride 51 of 583\n",
      "Stride 52 of 583\n",
      "Stride 53 of 583\n",
      "Stride 54 of 583\n",
      "Stride 55 of 583\n",
      "Stride 56 of 583\n",
      "Stride 57 of 583\n",
      "Stride 58 of 583\n",
      "Stride 59 of 583\n",
      "Stride 60 of 583\n",
      "Stride 61 of 583\n",
      "Stride 62 of 583\n",
      "Stride 63 of 583\n",
      "Stride 64 of 583\n",
      "Stride 65 of 583\n",
      "Stride 66 of 583\n",
      "Stride 67 of 583\n",
      "Stride 68 of 583\n",
      "Stride 69 of 583\n",
      "Stride 70 of 583\n",
      "Stride 71 of 583\n",
      "Stride 72 of 583\n",
      "Stride 73 of 583\n",
      "Stride 74 of 583\n",
      "Stride 75 of 583\n",
      "Stride 76 of 583\n",
      "Stride 77 of 583\n",
      "Stride 78 of 583\n",
      "Stride 79 of 583\n",
      "Stride 80 of 583\n",
      "Stride 81 of 583\n",
      "Stride 82 of 583\n",
      "Stride 83 of 583\n",
      "Stride 84 of 583\n",
      "Stride 85 of 583\n",
      "Stride 86 of 583\n",
      "Stride 87 of 583\n",
      "Stride 88 of 583\n",
      "Stride 89 of 583\n",
      "Stride 90 of 583\n",
      "Stride 91 of 583\n",
      "Stride 92 of 583\n",
      "Stride 93 of 583\n",
      "Stride 94 of 583\n",
      "Stride 95 of 583\n",
      "Stride 96 of 583\n",
      "Stride 97 of 583\n",
      "Stride 98 of 583\n",
      "Stride 99 of 583\n",
      "Stride 100 of 583\n",
      "Stride 101 of 583\n",
      "Stride 102 of 583\n",
      "Stride 103 of 583\n",
      "Stride 104 of 583\n",
      "Stride 105 of 583\n",
      "Stride 106 of 583\n",
      "Stride 107 of 583\n",
      "Stride 108 of 583\n",
      "Stride 109 of 583\n",
      "Stride 110 of 583\n",
      "Stride 111 of 583\n",
      "Stride 112 of 583\n",
      "Stride 113 of 583\n",
      "Stride 114 of 583\n",
      "Stride 115 of 583\n",
      "Stride 116 of 583\n",
      "Stride 117 of 583\n",
      "Stride 118 of 583\n",
      "Stride 119 of 583\n",
      "Stride 120 of 583\n",
      "Stride 121 of 583\n",
      "Stride 122 of 583\n",
      "Stride 123 of 583\n",
      "Stride 124 of 583\n",
      "Stride 125 of 583\n",
      "Stride 126 of 583\n",
      "Stride 127 of 583\n",
      "Stride 128 of 583\n",
      "Stride 129 of 583\n",
      "Stride 130 of 583\n",
      "Stride 131 of 583\n",
      "Stride 132 of 583\n",
      "Stride 133 of 583\n",
      "Stride 134 of 583\n",
      "Stride 135 of 583\n",
      "Stride 136 of 583\n",
      "Stride 137 of 583\n",
      "Stride 138 of 583\n",
      "Stride 139 of 583\n",
      "Stride 140 of 583\n",
      "Stride 141 of 583\n",
      "Stride 142 of 583\n",
      "Stride 143 of 583\n",
      "Stride 144 of 583\n",
      "Stride 145 of 583\n",
      "Stride 146 of 583\n",
      "Stride 147 of 583\n",
      "Stride 148 of 583\n",
      "Stride 149 of 583\n",
      "Stride 150 of 583\n",
      "Stride 151 of 583\n",
      "Stride 152 of 583\n",
      "Stride 153 of 583\n",
      "Stride 154 of 583\n",
      "Stride 155 of 583\n",
      "Stride 156 of 583\n",
      "Stride 157 of 583\n",
      "Stride 158 of 583\n",
      "Stride 159 of 583\n",
      "Stride 160 of 583\n",
      "Stride 161 of 583\n",
      "Stride 162 of 583\n",
      "Stride 163 of 583\n",
      "Stride 164 of 583\n",
      "Stride 165 of 583\n",
      "Stride 166 of 583\n",
      "Stride 167 of 583\n",
      "Stride 168 of 583\n",
      "Stride 169 of 583\n",
      "Stride 170 of 583\n",
      "Stride 171 of 583\n",
      "Stride 172 of 583\n",
      "Stride 173 of 583\n",
      "Stride 174 of 583\n",
      "Stride 175 of 583\n",
      "Stride 176 of 583\n",
      "Stride 177 of 583\n",
      "Stride 178 of 583\n",
      "Stride 179 of 583\n",
      "Stride 180 of 583\n",
      "Stride 181 of 583\n",
      "Stride 182 of 583\n",
      "Stride 183 of 583\n",
      "Stride 184 of 583\n",
      "Stride 185 of 583\n",
      "Stride 186 of 583\n",
      "Stride 187 of 583\n",
      "Stride 188 of 583\n",
      "Stride 189 of 583\n",
      "Stride 190 of 583\n",
      "Stride 191 of 583\n",
      "Stride 192 of 583\n",
      "Stride 193 of 583\n",
      "Stride 194 of 583\n",
      "Stride 195 of 583\n",
      "Stride 196 of 583\n",
      "Stride 197 of 583\n",
      "Stride 198 of 583\n",
      "Stride 199 of 583\n",
      "Stride 200 of 583\n",
      "Stride 201 of 583\n",
      "Stride 202 of 583\n",
      "Stride 203 of 583\n",
      "Stride 204 of 583\n",
      "Stride 205 of 583\n",
      "Stride 206 of 583\n",
      "Stride 207 of 583\n",
      "Stride 208 of 583\n",
      "Stride 209 of 583\n",
      "Stride 210 of 583\n",
      "Stride 211 of 583\n",
      "Stride 212 of 583\n",
      "Stride 213 of 583\n",
      "Stride 214 of 583\n",
      "Stride 215 of 583\n",
      "Stride 216 of 583\n",
      "Stride 217 of 583\n",
      "Stride 218 of 583\n",
      "Stride 219 of 583\n",
      "Stride 220 of 583\n",
      "Stride 221 of 583\n",
      "Stride 222 of 583\n",
      "Stride 223 of 583\n",
      "Stride 224 of 583\n",
      "Stride 225 of 583\n",
      "Stride 226 of 583\n",
      "Stride 227 of 583\n",
      "Stride 228 of 583\n",
      "Stride 229 of 583\n",
      "Stride 230 of 583\n",
      "Stride 231 of 583\n",
      "Stride 232 of 583\n",
      "Stride 233 of 583\n",
      "Stride 234 of 583\n",
      "Stride 235 of 583\n",
      "Stride 236 of 583\n",
      "Stride 237 of 583\n",
      "Stride 238 of 583\n",
      "Stride 239 of 583\n",
      "Stride 240 of 583\n",
      "Stride 241 of 583\n",
      "Stride 242 of 583\n",
      "Stride 243 of 583\n",
      "Stride 244 of 583\n",
      "Stride 245 of 583\n",
      "Stride 246 of 583\n",
      "Stride 247 of 583\n",
      "Stride 248 of 583\n",
      "Stride 249 of 583\n",
      "Stride 250 of 583\n",
      "Stride 251 of 583\n",
      "Stride 252 of 583\n",
      "Stride 253 of 583\n",
      "Stride 254 of 583\n",
      "Stride 255 of 583\n",
      "Stride 256 of 583\n",
      "Stride 257 of 583\n",
      "Stride 258 of 583\n",
      "Stride 259 of 583\n",
      "Stride 260 of 583\n",
      "Stride 261 of 583\n",
      "Stride 262 of 583\n",
      "Stride 263 of 583\n",
      "Stride 264 of 583\n",
      "Stride 265 of 583\n",
      "Stride 266 of 583\n",
      "Stride 267 of 583\n",
      "Stride 268 of 583\n",
      "Stride 269 of 583\n",
      "Stride 270 of 583\n",
      "Stride 271 of 583\n",
      "Stride 272 of 583\n",
      "Stride 273 of 583\n",
      "Stride 274 of 583\n",
      "Stride 275 of 583\n",
      "Stride 276 of 583\n",
      "Stride 277 of 583\n",
      "Stride 278 of 583\n",
      "Stride 279 of 583\n",
      "Stride 280 of 583\n",
      "Stride 281 of 583\n",
      "Stride 282 of 583\n",
      "Stride 283 of 583\n",
      "Stride 284 of 583\n",
      "Stride 285 of 583\n",
      "Stride 286 of 583\n",
      "Stride 287 of 583\n",
      "Stride 288 of 583\n",
      "Stride 289 of 583\n",
      "Stride 290 of 583\n",
      "Stride 291 of 583\n",
      "Stride 292 of 583\n",
      "Stride 293 of 583\n",
      "Stride 294 of 583\n",
      "Stride 295 of 583\n",
      "Stride 296 of 583\n",
      "Stride 297 of 583\n",
      "Stride 298 of 583\n",
      "Stride 299 of 583\n",
      "Stride 300 of 583\n",
      "Stride 301 of 583\n",
      "Stride 302 of 583\n",
      "Stride 303 of 583\n",
      "Stride 304 of 583\n",
      "Stride 305 of 583\n",
      "Stride 306 of 583\n",
      "Stride 307 of 583\n",
      "Stride 308 of 583\n",
      "Stride 309 of 583\n",
      "Stride 310 of 583\n",
      "Stride 311 of 583\n",
      "Stride 312 of 583\n",
      "Stride 313 of 583\n",
      "Stride 314 of 583\n",
      "Stride 315 of 583\n",
      "Stride 316 of 583\n",
      "Stride 317 of 583\n",
      "Stride 318 of 583\n",
      "Stride 319 of 583\n",
      "Stride 320 of 583\n",
      "Stride 321 of 583\n",
      "Stride 322 of 583\n",
      "Stride 323 of 583\n",
      "Stride 324 of 583\n",
      "Stride 325 of 583\n",
      "Stride 326 of 583\n",
      "Stride 327 of 583\n",
      "Stride 328 of 583\n",
      "Stride 329 of 583\n",
      "Stride 330 of 583\n",
      "Stride 331 of 583\n",
      "Stride 332 of 583\n",
      "Stride 333 of 583\n",
      "Stride 334 of 583\n",
      "Stride 335 of 583\n",
      "Stride 336 of 583\n",
      "Stride 337 of 583\n",
      "Stride 338 of 583\n",
      "Stride 339 of 583\n",
      "Stride 340 of 583\n",
      "Stride 341 of 583\n",
      "Stride 342 of 583\n",
      "Stride 343 of 583\n",
      "Stride 344 of 583\n",
      "Stride 345 of 583\n",
      "Stride 346 of 583\n",
      "Stride 347 of 583\n",
      "Stride 348 of 583\n",
      "Stride 349 of 583\n",
      "Stride 350 of 583\n",
      "Stride 351 of 583\n",
      "Stride 352 of 583\n",
      "Stride 353 of 583\n",
      "Stride 354 of 583\n",
      "Stride 355 of 583\n",
      "Stride 356 of 583\n",
      "Stride 357 of 583\n",
      "Stride 358 of 583\n",
      "Stride 359 of 583\n",
      "Stride 360 of 583\n",
      "Stride 361 of 583\n",
      "Stride 362 of 583\n",
      "Stride 363 of 583\n",
      "Stride 364 of 583\n",
      "Stride 365 of 583\n",
      "Stride 366 of 583\n",
      "Stride 367 of 583\n",
      "Stride 368 of 583\n",
      "Stride 369 of 583\n",
      "Stride 370 of 583\n",
      "Stride 371 of 583\n",
      "Stride 372 of 583\n",
      "Stride 373 of 583\n",
      "Stride 374 of 583\n",
      "Stride 375 of 583\n",
      "Stride 376 of 583\n",
      "Stride 377 of 583\n",
      "Stride 378 of 583\n",
      "Stride 379 of 583\n",
      "Stride 380 of 583\n",
      "Stride 381 of 583\n",
      "Stride 382 of 583\n",
      "Stride 383 of 583\n",
      "Stride 384 of 583\n",
      "Stride 385 of 583\n",
      "Stride 386 of 583\n",
      "Stride 387 of 583\n",
      "Stride 388 of 583\n",
      "Stride 389 of 583\n",
      "Stride 390 of 583\n",
      "Stride 391 of 583\n",
      "Stride 392 of 583\n",
      "Stride 393 of 583\n",
      "Stride 394 of 583\n",
      "Stride 395 of 583\n",
      "Stride 396 of 583\n",
      "Stride 397 of 583\n",
      "Stride 398 of 583\n",
      "Stride 399 of 583\n",
      "Stride 400 of 583\n",
      "Stride 401 of 583\n",
      "Stride 402 of 583\n",
      "Stride 403 of 583\n",
      "Stride 404 of 583\n",
      "Stride 405 of 583\n",
      "Stride 406 of 583\n",
      "Stride 407 of 583\n",
      "Stride 408 of 583\n",
      "Stride 409 of 583\n",
      "Stride 410 of 583\n",
      "Stride 411 of 583\n",
      "Stride 412 of 583\n",
      "Stride 413 of 583\n",
      "Stride 414 of 583\n",
      "Stride 415 of 583\n",
      "Stride 416 of 583\n",
      "Stride 417 of 583\n",
      "Stride 418 of 583\n",
      "Stride 419 of 583\n",
      "Stride 420 of 583\n",
      "Stride 421 of 583\n",
      "Stride 422 of 583\n",
      "Stride 423 of 583\n",
      "Stride 424 of 583\n",
      "Stride 425 of 583\n",
      "Stride 426 of 583\n",
      "Stride 427 of 583\n",
      "Stride 428 of 583\n",
      "Stride 429 of 583\n",
      "Stride 430 of 583\n",
      "Stride 431 of 583\n",
      "Stride 432 of 583\n",
      "Stride 433 of 583\n",
      "Stride 434 of 583\n",
      "Stride 435 of 583\n",
      "Stride 436 of 583\n",
      "Stride 437 of 583\n",
      "Stride 438 of 583\n",
      "Stride 439 of 583\n",
      "Stride 440 of 583\n",
      "Stride 441 of 583\n",
      "Stride 442 of 583\n",
      "Stride 443 of 583\n",
      "Stride 444 of 583\n",
      "Stride 445 of 583\n",
      "Stride 446 of 583\n",
      "Stride 447 of 583\n",
      "Stride 448 of 583\n",
      "Stride 449 of 583\n",
      "Stride 450 of 583\n",
      "Stride 451 of 583\n",
      "Stride 452 of 583\n",
      "Stride 453 of 583\n",
      "Stride 454 of 583\n",
      "Stride 455 of 583\n",
      "Stride 456 of 583\n",
      "Stride 457 of 583\n",
      "Stride 458 of 583\n",
      "Stride 459 of 583\n",
      "Stride 460 of 583\n",
      "Stride 461 of 583\n",
      "Stride 462 of 583\n",
      "Stride 463 of 583\n",
      "Stride 464 of 583\n",
      "Stride 465 of 583\n",
      "Stride 466 of 583\n",
      "Stride 467 of 583\n",
      "Stride 468 of 583\n",
      "Stride 469 of 583\n",
      "Stride 470 of 583\n",
      "Stride 471 of 583\n",
      "Stride 472 of 583\n",
      "Stride 473 of 583\n",
      "Stride 474 of 583\n",
      "Stride 475 of 583\n",
      "Stride 476 of 583\n",
      "Stride 477 of 583\n",
      "Stride 478 of 583\n",
      "Stride 479 of 583\n",
      "Stride 480 of 583\n",
      "Stride 481 of 583\n",
      "Stride 482 of 583\n",
      "Stride 483 of 583\n",
      "Stride 484 of 583\n",
      "Stride 485 of 583\n",
      "Stride 486 of 583\n",
      "Stride 487 of 583\n",
      "Stride 488 of 583\n",
      "Stride 489 of 583\n",
      "Stride 490 of 583\n",
      "Stride 491 of 583\n",
      "Stride 492 of 583\n",
      "Stride 493 of 583\n",
      "Stride 494 of 583\n",
      "Stride 495 of 583\n",
      "Stride 496 of 583\n",
      "Stride 497 of 583\n",
      "Stride 498 of 583\n",
      "Stride 499 of 583\n",
      "Stride 500 of 583\n",
      "Stride 501 of 583\n",
      "Stride 502 of 583\n",
      "Stride 503 of 583\n",
      "Stride 504 of 583\n",
      "Stride 505 of 583\n",
      "Stride 506 of 583\n",
      "Stride 507 of 583\n",
      "Stride 508 of 583\n",
      "Stride 509 of 583\n",
      "Stride 510 of 583\n",
      "Stride 511 of 583\n",
      "Stride 512 of 583\n",
      "Stride 513 of 583\n",
      "Stride 514 of 583\n",
      "Stride 515 of 583\n",
      "Stride 516 of 583\n",
      "Stride 517 of 583\n",
      "Stride 518 of 583\n",
      "Stride 519 of 583\n",
      "Stride 520 of 583\n",
      "Stride 521 of 583\n",
      "Stride 522 of 583\n",
      "Stride 523 of 583\n",
      "Stride 524 of 583\n",
      "Stride 525 of 583\n",
      "Stride 526 of 583\n",
      "Stride 527 of 583\n",
      "Stride 528 of 583\n",
      "Stride 529 of 583\n",
      "Stride 530 of 583\n",
      "Stride 531 of 583\n",
      "Stride 532 of 583\n",
      "Stride 533 of 583\n",
      "Stride 534 of 583\n",
      "Stride 535 of 583\n",
      "Stride 536 of 583\n",
      "Stride 537 of 583\n",
      "Stride 538 of 583\n",
      "Stride 539 of 583\n",
      "Stride 540 of 583\n",
      "Stride 541 of 583\n",
      "Stride 542 of 583\n",
      "Stride 543 of 583\n",
      "Stride 544 of 583\n",
      "Stride 545 of 583\n",
      "Stride 546 of 583\n",
      "Stride 547 of 583\n",
      "Stride 548 of 583\n",
      "Stride 549 of 583\n",
      "Stride 550 of 583\n",
      "Stride 551 of 583\n",
      "Stride 552 of 583\n",
      "Stride 553 of 583\n",
      "Stride 554 of 583\n",
      "Stride 555 of 583\n",
      "Stride 556 of 583\n",
      "Stride 557 of 583\n",
      "Stride 558 of 583\n",
      "Stride 559 of 583\n",
      "Stride 560 of 583\n",
      "Stride 561 of 583\n",
      "Stride 562 of 583\n",
      "Stride 563 of 583\n",
      "Stride 564 of 583\n",
      "Stride 565 of 583\n",
      "Stride 566 of 583\n",
      "Stride 567 of 583\n",
      "Stride 568 of 583\n",
      "Stride 569 of 583\n",
      "Stride 570 of 583\n",
      "Stride 571 of 583\n",
      "Stride 572 of 583\n",
      "Stride 573 of 583\n",
      "Stride 574 of 583\n",
      "Stride 575 of 583\n",
      "Stride 576 of 583\n",
      "Stride 577 of 583\n",
      "Stride 578 of 583\n",
      "Stride 579 of 583\n",
      "Stride 580 of 583\n",
      "Stride 581 of 583\n",
      "Stride 582 of 583\n"
     ]
    }
   ],
   "source": [
    "simulate = True\n",
    "if simulate:\n",
    "    SBN_sim.run()"
   ]
  },
  {
   "cell_type": "markdown",
   "metadata": {},
   "source": [
    "## 2. Analysis"
   ]
  },
  {
   "cell_type": "markdown",
   "metadata": {},
   "source": [
    "## 2.1 Load Data"
   ]
  },
  {
   "cell_type": "code",
   "execution_count": 7,
   "metadata": {},
   "outputs": [
    {
     "name": "stdout",
     "output_type": "stream",
     "text": [
      "E:\\\\Quarmen\\\\\n",
      "584 0.5 0.0017123287671232876\n",
      "E:\\\\Quarmen\\\\\n",
      "584 1.0 0.003424657534246575\n",
      "E:\\\\Quarmen\\\\\n",
      "584 1.5 0.00684931506849315\n",
      "E:\\\\Quarmen\\\\\n",
      "584 2.0 0.008561643835616438\n",
      "E:\\\\Quarmen\\\\\n",
      "584 2.5 0.011986301369863013\n",
      "E:\\\\Quarmen\\\\\n",
      "584 3.0 0.0136986301369863\n",
      "E:\\\\Quarmen\\\\\n",
      "584 3.5 0.017123287671232876\n",
      "E:\\\\Quarmen\\\\\n",
      "584 4.0 0.018835616438356163\n",
      "E:\\\\Quarmen\\\\\n",
      "584 4.5 0.02226027397260274\n",
      "E:\\\\Quarmen\\\\\n",
      "584 5.0 0.023972602739726026\n",
      "E:\\\\Quarmen\\\\\n",
      "584 5.5 0.0273972602739726\n",
      "E:\\\\Quarmen\\\\\n",
      "584 6.0 0.02910958904109589\n",
      "E:\\\\Quarmen\\\\\n",
      "584 6.5 0.030821917808219176\n",
      "E:\\\\Quarmen\\\\\n",
      "584 7.0 0.03424657534246575\n",
      "E:\\\\Quarmen\\\\\n",
      "584 7.5 0.03595890410958904\n",
      "E:\\\\Quarmen\\\\\n",
      "584 8.0 0.039383561643835614\n",
      "E:\\\\Quarmen\\\\\n",
      "584 8.5 0.0410958904109589\n",
      "E:\\\\Quarmen\\\\\n",
      "584 9.0 0.04452054794520548\n",
      "E:\\\\Quarmen\\\\\n",
      "584 9.5 0.046232876712328765\n",
      "E:\\\\Quarmen\\\\\n",
      "584 10.0 0.04965753424657534\n",
      "E:\\\\Quarmen\\\\\n",
      "584 10.5 0.05136986301369863\n",
      "E:\\\\Quarmen\\\\\n",
      "584 11.0 0.0547945205479452\n",
      "E:\\\\Quarmen\\\\\n",
      "584 11.5 0.05650684931506849\n",
      "E:\\\\Quarmen\\\\\n",
      "584 12.0 0.059931506849315065\n",
      "E:\\\\Quarmen\\\\\n",
      "584 12.5 0.06164383561643835\n",
      "E:\\\\Quarmen\\\\\n",
      "584 13.0 0.06335616438356165\n",
      "E:\\\\Quarmen\\\\\n",
      "584 13.5 0.06678082191780822\n",
      "E:\\\\Quarmen\\\\\n",
      "584 14.0 0.0684931506849315\n",
      "E:\\\\Quarmen\\\\\n",
      "584 14.5 0.07191780821917808\n",
      "E:\\\\Quarmen\\\\\n",
      "584 15.0 0.07363013698630137\n",
      "E:\\\\Quarmen\\\\\n",
      "584 15.5 0.07705479452054795\n",
      "E:\\\\Quarmen\\\\\n",
      "584 16.0 0.07876712328767123\n",
      "E:\\\\Quarmen\\\\\n",
      "584 16.5 0.0821917808219178\n",
      "E:\\\\Quarmen\\\\\n",
      "584 17.0 0.0839041095890411\n",
      "E:\\\\Quarmen\\\\\n",
      "584 17.5 0.08732876712328767\n",
      "E:\\\\Quarmen\\\\\n",
      "584 18.0 0.08904109589041095\n",
      "E:\\\\Quarmen\\\\\n",
      "584 18.5 0.09246575342465753\n",
      "E:\\\\Quarmen\\\\\n",
      "584 19.0 0.09417808219178082\n",
      "E:\\\\Quarmen\\\\\n",
      "584 19.5 0.0958904109589041\n",
      "E:\\\\Quarmen\\\\\n",
      "584 20.0 0.09931506849315068\n",
      "E:\\\\Quarmen\\\\\n",
      "584 20.5 0.10102739726027397\n",
      "E:\\\\Quarmen\\\\\n",
      "584 21.0 0.10445205479452055\n",
      "E:\\\\Quarmen\\\\\n",
      "584 21.5 0.10616438356164383\n",
      "E:\\\\Quarmen\\\\\n",
      "584 22.0 0.1095890410958904\n",
      "E:\\\\Quarmen\\\\\n",
      "584 22.5 0.1113013698630137\n",
      "E:\\\\Quarmen\\\\\n",
      "584 23.0 0.11472602739726027\n",
      "E:\\\\Quarmen\\\\\n",
      "584 23.5 0.11643835616438356\n",
      "E:\\\\Quarmen\\\\\n",
      "584 24.0 0.11986301369863013\n",
      "E:\\\\Quarmen\\\\\n",
      "584 24.5 0.12157534246575342\n",
      "E:\\\\Quarmen\\\\\n",
      "584 25.0 0.125\n",
      "E:\\\\Quarmen\\\\\n",
      "584 25.5 0.1267123287671233\n",
      "E:\\\\Quarmen\\\\\n",
      "584 26.0 0.1284246575342466\n",
      "E:\\\\Quarmen\\\\\n",
      "584 26.5 0.13184931506849315\n",
      "E:\\\\Quarmen\\\\\n",
      "584 27.0 0.13356164383561644\n",
      "E:\\\\Quarmen\\\\\n",
      "584 27.5 0.136986301369863\n",
      "E:\\\\Quarmen\\\\\n",
      "584 28.0 0.1386986301369863\n",
      "E:\\\\Quarmen\\\\\n",
      "584 28.5 0.1421232876712329\n",
      "E:\\\\Quarmen\\\\\n",
      "584 29.0 0.14383561643835616\n",
      "E:\\\\Quarmen\\\\\n",
      "584 29.5 0.14726027397260275\n",
      "E:\\\\Quarmen\\\\\n",
      "584 30.0 0.14897260273972604\n",
      "E:\\\\Quarmen\\\\\n",
      "584 30.5 0.1523972602739726\n",
      "E:\\\\Quarmen\\\\\n",
      "584 31.0 0.1541095890410959\n",
      "E:\\\\Quarmen\\\\\n",
      "584 31.5 0.1558219178082192\n",
      "E:\\\\Quarmen\\\\\n",
      "584 32.0 0.15924657534246575\n",
      "E:\\\\Quarmen\\\\\n",
      "584 32.5 0.16095890410958905\n",
      "E:\\\\Quarmen\\\\\n",
      "584 33.0 0.1643835616438356\n",
      "E:\\\\Quarmen\\\\\n",
      "584 33.5 0.1660958904109589\n",
      "E:\\\\Quarmen\\\\\n",
      "584 34.0 0.1695205479452055\n",
      "E:\\\\Quarmen\\\\\n",
      "584 34.5 0.17123287671232876\n",
      "E:\\\\Quarmen\\\\\n",
      "584 35.0 0.17465753424657535\n",
      "E:\\\\Quarmen\\\\\n",
      "584 35.5 0.17636986301369864\n",
      "E:\\\\Quarmen\\\\\n",
      "584 36.0 0.1797945205479452\n",
      "E:\\\\Quarmen\\\\\n",
      "584 36.5 0.1815068493150685\n",
      "E:\\\\Quarmen\\\\\n",
      "584 37.0 0.18493150684931506\n",
      "E:\\\\Quarmen\\\\\n",
      "584 37.5 0.18664383561643835\n",
      "E:\\\\Quarmen\\\\\n",
      "584 38.0 0.18835616438356165\n",
      "E:\\\\Quarmen\\\\\n",
      "584 38.5 0.1917808219178082\n",
      "E:\\\\Quarmen\\\\\n",
      "584 39.0 0.1934931506849315\n",
      "E:\\\\Quarmen\\\\\n",
      "584 39.5 0.1969178082191781\n",
      "E:\\\\Quarmen\\\\\n",
      "584 40.0 0.19863013698630136\n",
      "E:\\\\Quarmen\\\\\n",
      "584 40.5 0.20205479452054795\n",
      "E:\\\\Quarmen\\\\\n",
      "584 41.0 0.20376712328767124\n",
      "E:\\\\Quarmen\\\\\n",
      "584 41.5 0.2071917808219178\n",
      "E:\\\\Quarmen\\\\\n",
      "584 42.0 0.2089041095890411\n",
      "E:\\\\Quarmen\\\\\n",
      "584 42.5 0.21232876712328766\n",
      "E:\\\\Quarmen\\\\\n",
      "584 43.0 0.21404109589041095\n",
      "E:\\\\Quarmen\\\\\n",
      "584 43.5 0.21746575342465754\n",
      "E:\\\\Quarmen\\\\\n",
      "584 44.0 0.2191780821917808\n",
      "E:\\\\Quarmen\\\\\n",
      "584 44.5 0.2208904109589041\n",
      "E:\\\\Quarmen\\\\\n",
      "584 45.0 0.2243150684931507\n",
      "E:\\\\Quarmen\\\\\n",
      "584 45.5 0.22602739726027396\n",
      "E:\\\\Quarmen\\\\\n",
      "584 46.0 0.22945205479452055\n",
      "E:\\\\Quarmen\\\\\n",
      "584 46.5 0.23116438356164384\n",
      "E:\\\\Quarmen\\\\\n",
      "584 47.0 0.2345890410958904\n",
      "E:\\\\Quarmen\\\\\n",
      "584 47.5 0.2363013698630137\n",
      "E:\\\\Quarmen\\\\\n",
      "584 48.0 0.23972602739726026\n",
      "E:\\\\Quarmen\\\\\n",
      "584 48.5 0.24143835616438356\n",
      "E:\\\\Quarmen\\\\\n",
      "584 49.0 0.24486301369863014\n",
      "E:\\\\Quarmen\\\\\n",
      "584 49.5 0.2465753424657534\n",
      "E:\\\\Quarmen\\\\\n",
      "584 50.0 0.25\n",
      "E:\\\\Quarmen\\\\\n",
      "584 50.5 0.2517123287671233\n",
      "E:\\\\Quarmen\\\\\n",
      "584 51.0 0.2534246575342466\n",
      "E:\\\\Quarmen\\\\\n",
      "584 51.5 0.2568493150684932\n",
      "E:\\\\Quarmen\\\\\n",
      "584 52.0 0.2585616438356164\n",
      "E:\\\\Quarmen\\\\\n",
      "584 52.5 0.261986301369863\n",
      "E:\\\\Quarmen\\\\\n",
      "584 53.0 0.2636986301369863\n",
      "E:\\\\Quarmen\\\\\n",
      "584 53.5 0.2671232876712329\n",
      "E:\\\\Quarmen\\\\\n",
      "584 54.0 0.2688356164383562\n",
      "E:\\\\Quarmen\\\\\n",
      "584 54.5 0.2722602739726027\n",
      "E:\\\\Quarmen\\\\\n",
      "584 55.0 0.273972602739726\n",
      "E:\\\\Quarmen\\\\\n",
      "584 55.5 0.2773972602739726\n",
      "E:\\\\Quarmen\\\\\n",
      "584 56.0 0.2791095890410959\n",
      "E:\\\\Quarmen\\\\\n",
      "584 56.5 0.2808219178082192\n",
      "E:\\\\Quarmen\\\\\n",
      "584 57.0 0.2842465753424658\n",
      "E:\\\\Quarmen\\\\\n",
      "584 57.5 0.285958904109589\n",
      "E:\\\\Quarmen\\\\\n",
      "584 58.0 0.2893835616438356\n",
      "E:\\\\Quarmen\\\\\n",
      "584 58.5 0.2910958904109589\n",
      "E:\\\\Quarmen\\\\\n",
      "584 59.0 0.2945205479452055\n",
      "E:\\\\Quarmen\\\\\n",
      "584 59.5 0.2962328767123288\n",
      "E:\\\\Quarmen\\\\\n",
      "584 60.0 0.2996575342465753\n",
      "E:\\\\Quarmen\\\\\n",
      "584 60.5 0.3013698630136986\n",
      "E:\\\\Quarmen\\\\\n",
      "584 61.0 0.3047945205479452\n",
      "E:\\\\Quarmen\\\\\n",
      "584 61.5 0.3065068493150685\n",
      "E:\\\\Quarmen\\\\\n",
      "584 62.0 0.3099315068493151\n",
      "E:\\\\Quarmen\\\\\n",
      "584 62.5 0.3116438356164384\n",
      "E:\\\\Quarmen\\\\\n",
      "584 63.0 0.3133561643835616\n",
      "E:\\\\Quarmen\\\\\n",
      "584 63.5 0.3167808219178082\n",
      "E:\\\\Quarmen\\\\\n",
      "584 64.0 0.3184931506849315\n",
      "E:\\\\Quarmen\\\\\n",
      "584 64.5 0.3219178082191781\n",
      "E:\\\\Quarmen\\\\\n",
      "584 65.0 0.3236301369863014\n",
      "E:\\\\Quarmen\\\\\n",
      "584 65.5 0.3270547945205479\n",
      "E:\\\\Quarmen\\\\\n",
      "584 66.0 0.3287671232876712\n",
      "E:\\\\Quarmen\\\\\n",
      "584 66.5 0.3321917808219178\n",
      "E:\\\\Quarmen\\\\\n",
      "584 67.0 0.3339041095890411\n",
      "E:\\\\Quarmen\\\\\n",
      "584 67.5 0.3373287671232877\n",
      "E:\\\\Quarmen\\\\\n",
      "584 68.0 0.339041095890411\n",
      "E:\\\\Quarmen\\\\\n",
      "584 68.5 0.3424657534246575\n",
      "E:\\\\Quarmen\\\\\n",
      "584 69.0 0.3441780821917808\n",
      "E:\\\\Quarmen\\\\\n",
      "584 69.5 0.3458904109589041\n",
      "E:\\\\Quarmen\\\\\n",
      "584 70.0 0.3493150684931507\n",
      "E:\\\\Quarmen\\\\\n",
      "584 70.5 0.351027397260274\n",
      "E:\\\\Quarmen\\\\\n",
      "584 71.0 0.3544520547945205\n",
      "E:\\\\Quarmen\\\\\n",
      "584 71.5 0.3561643835616438\n",
      "E:\\\\Quarmen\\\\\n",
      "584 72.0 0.3595890410958904\n",
      "E:\\\\Quarmen\\\\\n",
      "584 72.5 0.3613013698630137\n",
      "E:\\\\Quarmen\\\\\n",
      "584 73.0 0.3647260273972603\n",
      "E:\\\\Quarmen\\\\\n",
      "584 73.5 0.3664383561643836\n",
      "E:\\\\Quarmen\\\\\n",
      "584 74.0 0.3698630136986301\n",
      "E:\\\\Quarmen\\\\\n",
      "584 74.5 0.3715753424657534\n",
      "E:\\\\Quarmen\\\\\n",
      "584 75.0 0.375\n",
      "E:\\\\Quarmen\\\\\n",
      "584 75.5 0.3767123287671233\n",
      "E:\\\\Quarmen\\\\\n",
      "584 76.0 0.3784246575342466\n",
      "E:\\\\Quarmen\\\\\n",
      "584 76.5 0.3818493150684932\n",
      "E:\\\\Quarmen\\\\\n",
      "584 77.0 0.3835616438356164\n",
      "E:\\\\Quarmen\\\\\n",
      "584 77.5 0.386986301369863\n",
      "E:\\\\Quarmen\\\\\n",
      "584 78.0 0.3886986301369863\n",
      "E:\\\\Quarmen\\\\\n",
      "584 78.5 0.3921232876712329\n",
      "E:\\\\Quarmen\\\\\n",
      "584 79.0 0.3938356164383562\n",
      "E:\\\\Quarmen\\\\\n",
      "584 79.5 0.3972602739726027\n",
      "E:\\\\Quarmen\\\\\n",
      "584 80.0 0.398972602739726\n",
      "E:\\\\Quarmen\\\\\n",
      "584 80.5 0.4023972602739726\n",
      "E:\\\\Quarmen\\\\\n",
      "584 81.0 0.4041095890410959\n",
      "E:\\\\Quarmen\\\\\n",
      "584 81.5 0.4058219178082192\n",
      "E:\\\\Quarmen\\\\\n",
      "584 82.0 0.4092465753424658\n",
      "E:\\\\Quarmen\\\\\n",
      "584 82.5 0.410958904109589\n",
      "E:\\\\Quarmen\\\\\n",
      "584 83.0 0.4143835616438356\n",
      "E:\\\\Quarmen\\\\\n",
      "584 83.5 0.4160958904109589\n",
      "E:\\\\Quarmen\\\\\n",
      "584 84.0 0.4195205479452055\n",
      "E:\\\\Quarmen\\\\\n",
      "584 84.5 0.4212328767123288\n",
      "E:\\\\Quarmen\\\\\n",
      "584 85.0 0.4246575342465753\n",
      "E:\\\\Quarmen\\\\\n",
      "584 85.5 0.4263698630136986\n",
      "E:\\\\Quarmen\\\\\n",
      "584 86.0 0.4297945205479452\n",
      "E:\\\\Quarmen\\\\\n",
      "584 86.5 0.4315068493150685\n",
      "E:\\\\Quarmen\\\\\n",
      "584 87.0 0.4349315068493151\n",
      "E:\\\\Quarmen\\\\\n",
      "584 87.5 0.4366438356164384\n",
      "E:\\\\Quarmen\\\\\n",
      "584 88.0 0.4383561643835616\n",
      "E:\\\\Quarmen\\\\\n",
      "584 88.5 0.4417808219178082\n",
      "E:\\\\Quarmen\\\\\n",
      "584 89.0 0.4434931506849315\n",
      "E:\\\\Quarmen\\\\\n",
      "584 89.5 0.4469178082191781\n",
      "E:\\\\Quarmen\\\\\n",
      "584 90.0 0.4486301369863014\n",
      "E:\\\\Quarmen\\\\\n",
      "584 90.5 0.4520547945205479\n",
      "E:\\\\Quarmen\\\\\n",
      "584 91.0 0.4537671232876712\n",
      "E:\\\\Quarmen\\\\\n",
      "584 91.5 0.4571917808219178\n",
      "E:\\\\Quarmen\\\\\n",
      "584 92.0 0.4589041095890411\n",
      "E:\\\\Quarmen\\\\\n",
      "584 92.5 0.4623287671232877\n",
      "E:\\\\Quarmen\\\\\n",
      "584 93.0 0.464041095890411\n",
      "E:\\\\Quarmen\\\\\n",
      "584 93.5 0.4674657534246575\n",
      "E:\\\\Quarmen\\\\\n",
      "584 94.0 0.4691780821917808\n",
      "E:\\\\Quarmen\\\\\n",
      "584 94.5 0.4708904109589041\n",
      "E:\\\\Quarmen\\\\\n",
      "584 95.0 0.4743150684931507\n",
      "E:\\\\Quarmen\\\\\n",
      "584 95.5 0.476027397260274\n",
      "E:\\\\Quarmen\\\\\n",
      "584 96.0 0.4794520547945205\n",
      "E:\\\\Quarmen\\\\\n",
      "584 96.5 0.4811643835616438\n",
      "E:\\\\Quarmen\\\\\n",
      "584 97.0 0.4845890410958904\n",
      "E:\\\\Quarmen\\\\\n",
      "584 97.5 0.4863013698630137\n",
      "E:\\\\Quarmen\\\\\n",
      "584 98.0 0.4897260273972603\n",
      "E:\\\\Quarmen\\\\\n",
      "584 98.5 0.4914383561643836\n",
      "E:\\\\Quarmen\\\\\n",
      "584 99.0 0.4948630136986301\n",
      "E:\\\\Quarmen\\\\\n",
      "584 99.5 0.4965753424657534\n",
      "E:\\\\Quarmen\\\\\n",
      "584 100.0 0.5\n",
      "E:\\\\Quarmen\\\\\n",
      "584 100.5 0.5017123287671232\n",
      "E:\\\\Quarmen\\\\\n",
      "584 101.0 0.5034246575342466\n",
      "E:\\\\Quarmen\\\\\n",
      "584 101.5 0.5068493150684932\n",
      "E:\\\\Quarmen\\\\\n",
      "584 102.0 0.5085616438356164\n",
      "E:\\\\Quarmen\\\\\n",
      "584 102.5 0.511986301369863\n",
      "E:\\\\Quarmen\\\\\n",
      "584 103.0 0.5136986301369864\n",
      "E:\\\\Quarmen\\\\\n",
      "584 103.5 0.5171232876712328\n",
      "E:\\\\Quarmen\\\\\n",
      "584 104.0 0.5188356164383562\n",
      "E:\\\\Quarmen\\\\\n",
      "584 104.5 0.5222602739726028\n",
      "E:\\\\Quarmen\\\\\n",
      "584 105.0 0.523972602739726\n",
      "E:\\\\Quarmen\\\\\n",
      "584 105.5 0.5273972602739726\n",
      "E:\\\\Quarmen\\\\\n",
      "584 106.0 0.5291095890410958\n",
      "E:\\\\Quarmen\\\\\n",
      "584 106.5 0.5308219178082192\n",
      "E:\\\\Quarmen\\\\\n",
      "584 107.0 0.5342465753424658\n",
      "E:\\\\Quarmen\\\\\n",
      "584 107.5 0.535958904109589\n",
      "E:\\\\Quarmen\\\\\n",
      "584 108.0 0.5393835616438356\n",
      "E:\\\\Quarmen\\\\\n",
      "584 108.5 0.541095890410959\n",
      "E:\\\\Quarmen\\\\\n",
      "584 109.0 0.5445205479452054\n",
      "E:\\\\Quarmen\\\\\n",
      "584 109.5 0.5462328767123288\n",
      "E:\\\\Quarmen\\\\\n",
      "584 110.0 0.5496575342465754\n",
      "E:\\\\Quarmen\\\\\n",
      "584 110.5 0.5513698630136986\n",
      "E:\\\\Quarmen\\\\\n",
      "584 111.0 0.5547945205479452\n",
      "E:\\\\Quarmen\\\\\n",
      "584 111.5 0.5565068493150684\n",
      "E:\\\\Quarmen\\\\\n",
      "584 112.0 0.559931506849315\n",
      "E:\\\\Quarmen\\\\\n",
      "584 112.5 0.5616438356164384\n",
      "E:\\\\Quarmen\\\\\n",
      "584 113.0 0.5633561643835616\n",
      "E:\\\\Quarmen\\\\\n",
      "584 113.5 0.5667808219178082\n",
      "E:\\\\Quarmen\\\\\n",
      "584 114.0 0.5684931506849316\n",
      "E:\\\\Quarmen\\\\\n",
      "584 114.5 0.571917808219178\n",
      "E:\\\\Quarmen\\\\\n",
      "584 115.0 0.5736301369863014\n",
      "E:\\\\Quarmen\\\\\n",
      "584 115.5 0.577054794520548\n",
      "E:\\\\Quarmen\\\\\n",
      "584 116.0 0.5787671232876712\n",
      "E:\\\\Quarmen\\\\\n",
      "584 116.5 0.5821917808219178\n",
      "E:\\\\Quarmen\\\\\n",
      "584 117.0 0.583904109589041\n",
      "E:\\\\Quarmen\\\\\n",
      "584 117.5 0.5873287671232876\n",
      "E:\\\\Quarmen\\\\\n",
      "584 118.0 0.589041095890411\n",
      "E:\\\\Quarmen\\\\\n",
      "584 118.5 0.5924657534246576\n",
      "E:\\\\Quarmen\\\\\n",
      "584 119.0 0.5941780821917808\n",
      "E:\\\\Quarmen\\\\\n",
      "584 119.5 0.5958904109589042\n",
      "E:\\\\Quarmen\\\\\n",
      "584 120.0 0.5993150684931506\n",
      "E:\\\\Quarmen\\\\\n",
      "584 120.5 0.601027397260274\n",
      "E:\\\\Quarmen\\\\\n",
      "584 121.0 0.6044520547945206\n",
      "E:\\\\Quarmen\\\\\n",
      "584 121.5 0.6061643835616438\n",
      "E:\\\\Quarmen\\\\\n",
      "584 122.0 0.6095890410958904\n",
      "E:\\\\Quarmen\\\\\n",
      "584 122.5 0.6113013698630136\n",
      "E:\\\\Quarmen\\\\\n",
      "584 123.0 0.6147260273972602\n",
      "E:\\\\Quarmen\\\\\n",
      "584 123.5 0.6164383561643836\n",
      "E:\\\\Quarmen\\\\\n",
      "584 124.0 0.6198630136986302\n",
      "E:\\\\Quarmen\\\\\n",
      "584 124.5 0.6215753424657534\n",
      "E:\\\\Quarmen\\\\\n",
      "584 125.0 0.625\n",
      "E:\\\\Quarmen\\\\\n",
      "584 125.5 0.6267123287671232\n",
      "E:\\\\Quarmen\\\\\n",
      "584 126.0 0.6284246575342466\n",
      "E:\\\\Quarmen\\\\\n",
      "584 126.5 0.6318493150684932\n",
      "E:\\\\Quarmen\\\\\n",
      "584 127.0 0.6335616438356164\n",
      "E:\\\\Quarmen\\\\\n",
      "584 127.5 0.636986301369863\n",
      "E:\\\\Quarmen\\\\\n",
      "584 128.0 0.6386986301369864\n",
      "E:\\\\Quarmen\\\\\n",
      "584 128.5 0.6421232876712328\n",
      "E:\\\\Quarmen\\\\\n",
      "584 129.0 0.6438356164383562\n",
      "E:\\\\Quarmen\\\\\n",
      "584 129.5 0.6472602739726028\n",
      "E:\\\\Quarmen\\\\\n",
      "584 130.0 0.648972602739726\n",
      "E:\\\\Quarmen\\\\\n",
      "584 130.5 0.6523972602739726\n",
      "E:\\\\Quarmen\\\\\n",
      "584 131.0 0.6541095890410958\n",
      "E:\\\\Quarmen\\\\\n",
      "584 131.5 0.6558219178082192\n",
      "E:\\\\Quarmen\\\\\n",
      "584 132.0 0.6592465753424658\n",
      "E:\\\\Quarmen\\\\\n",
      "584 132.5 0.660958904109589\n",
      "E:\\\\Quarmen\\\\\n",
      "584 133.0 0.6643835616438356\n",
      "E:\\\\Quarmen\\\\\n",
      "584 133.5 0.666095890410959\n",
      "E:\\\\Quarmen\\\\\n",
      "584 134.0 0.6695205479452054\n",
      "E:\\\\Quarmen\\\\\n",
      "584 134.5 0.6712328767123288\n",
      "E:\\\\Quarmen\\\\\n",
      "584 135.0 0.6746575342465754\n",
      "E:\\\\Quarmen\\\\\n",
      "584 135.5 0.6763698630136986\n",
      "E:\\\\Quarmen\\\\\n",
      "584 136.0 0.6797945205479452\n",
      "E:\\\\Quarmen\\\\\n",
      "584 136.5 0.6815068493150684\n",
      "E:\\\\Quarmen\\\\\n",
      "584 137.0 0.684931506849315\n",
      "E:\\\\Quarmen\\\\\n",
      "584 137.5 0.6866438356164384\n",
      "E:\\\\Quarmen\\\\\n",
      "584 138.0 0.6883561643835616\n",
      "E:\\\\Quarmen\\\\\n",
      "584 138.5 0.6917808219178082\n",
      "E:\\\\Quarmen\\\\\n",
      "584 139.0 0.6934931506849316\n",
      "E:\\\\Quarmen\\\\\n",
      "584 139.5 0.696917808219178\n",
      "E:\\\\Quarmen\\\\\n",
      "584 140.0 0.6986301369863014\n",
      "E:\\\\Quarmen\\\\\n",
      "584 140.5 0.702054794520548\n",
      "E:\\\\Quarmen\\\\\n",
      "584 141.0 0.7037671232876712\n",
      "E:\\\\Quarmen\\\\\n",
      "584 141.5 0.7071917808219178\n",
      "E:\\\\Quarmen\\\\\n",
      "584 142.0 0.708904109589041\n",
      "E:\\\\Quarmen\\\\\n",
      "584 142.5 0.7123287671232876\n",
      "E:\\\\Quarmen\\\\\n",
      "584 143.0 0.714041095890411\n",
      "E:\\\\Quarmen\\\\\n",
      "584 143.5 0.7174657534246576\n",
      "E:\\\\Quarmen\\\\\n",
      "584 144.0 0.7191780821917808\n",
      "E:\\\\Quarmen\\\\\n",
      "584 144.5 0.7208904109589042\n",
      "E:\\\\Quarmen\\\\\n",
      "584 145.0 0.7243150684931506\n",
      "E:\\\\Quarmen\\\\\n",
      "584 145.5 0.726027397260274\n",
      "E:\\\\Quarmen\\\\\n",
      "584 146.0 0.7294520547945206\n",
      "E:\\\\Quarmen\\\\\n",
      "584 146.5 0.7311643835616438\n",
      "E:\\\\Quarmen\\\\\n",
      "584 147.0 0.7345890410958904\n",
      "E:\\\\Quarmen\\\\\n",
      "584 147.5 0.7363013698630136\n",
      "E:\\\\Quarmen\\\\\n",
      "584 148.0 0.7397260273972602\n",
      "E:\\\\Quarmen\\\\\n",
      "584 148.5 0.7414383561643836\n",
      "E:\\\\Quarmen\\\\\n",
      "584 149.0 0.7448630136986302\n",
      "E:\\\\Quarmen\\\\\n",
      "584 149.5 0.7465753424657534\n",
      "E:\\\\Quarmen\\\\\n",
      "584 150.0 0.75\n",
      "E:\\\\Quarmen\\\\\n",
      "584 150.5 0.7517123287671232\n",
      "E:\\\\Quarmen\\\\\n",
      "584 151.0 0.7534246575342466\n",
      "E:\\\\Quarmen\\\\\n",
      "584 151.5 0.7568493150684932\n",
      "E:\\\\Quarmen\\\\\n",
      "584 152.0 0.7585616438356164\n",
      "E:\\\\Quarmen\\\\\n",
      "584 152.5 0.761986301369863\n",
      "E:\\\\Quarmen\\\\\n",
      "584 153.0 0.7636986301369864\n",
      "E:\\\\Quarmen\\\\\n",
      "584 153.5 0.7671232876712328\n",
      "E:\\\\Quarmen\\\\\n",
      "584 154.0 0.7688356164383562\n",
      "E:\\\\Quarmen\\\\\n",
      "584 154.5 0.7722602739726028\n",
      "E:\\\\Quarmen\\\\\n",
      "584 155.0 0.773972602739726\n",
      "E:\\\\Quarmen\\\\\n",
      "584 155.5 0.7773972602739726\n",
      "E:\\\\Quarmen\\\\\n",
      "584 156.0 0.7791095890410958\n",
      "E:\\\\Quarmen\\\\\n",
      "584 156.5 0.7808219178082192\n",
      "E:\\\\Quarmen\\\\\n",
      "584 157.0 0.7842465753424658\n",
      "E:\\\\Quarmen\\\\\n",
      "584 157.5 0.785958904109589\n",
      "E:\\\\Quarmen\\\\\n",
      "584 158.0 0.7893835616438356\n",
      "E:\\\\Quarmen\\\\\n",
      "584 158.5 0.791095890410959\n",
      "E:\\\\Quarmen\\\\\n",
      "584 159.0 0.7945205479452054\n",
      "E:\\\\Quarmen\\\\\n",
      "584 159.5 0.7962328767123288\n",
      "E:\\\\Quarmen\\\\\n",
      "584 160.0 0.7996575342465754\n",
      "E:\\\\Quarmen\\\\\n",
      "584 160.5 0.8013698630136986\n",
      "E:\\\\Quarmen\\\\\n",
      "584 161.0 0.8047945205479452\n",
      "E:\\\\Quarmen\\\\\n",
      "584 161.5 0.8065068493150684\n",
      "E:\\\\Quarmen\\\\\n",
      "584 162.0 0.809931506849315\n",
      "E:\\\\Quarmen\\\\\n",
      "584 162.5 0.8116438356164384\n",
      "E:\\\\Quarmen\\\\\n",
      "584 163.0 0.8133561643835616\n",
      "E:\\\\Quarmen\\\\\n",
      "584 163.5 0.8167808219178082\n",
      "E:\\\\Quarmen\\\\\n",
      "584 164.0 0.8184931506849316\n",
      "E:\\\\Quarmen\\\\\n",
      "584 164.5 0.821917808219178\n",
      "E:\\\\Quarmen\\\\\n",
      "584 165.0 0.8236301369863014\n",
      "E:\\\\Quarmen\\\\\n",
      "584 165.5 0.827054794520548\n",
      "E:\\\\Quarmen\\\\\n",
      "584 166.0 0.8287671232876712\n",
      "E:\\\\Quarmen\\\\\n",
      "584 166.5 0.8321917808219178\n",
      "E:\\\\Quarmen\\\\\n",
      "584 167.0 0.833904109589041\n",
      "E:\\\\Quarmen\\\\\n",
      "584 167.5 0.8373287671232876\n",
      "E:\\\\Quarmen\\\\\n",
      "584 168.0 0.839041095890411\n",
      "E:\\\\Quarmen\\\\\n",
      "584 168.5 0.8424657534246576\n",
      "E:\\\\Quarmen\\\\\n",
      "584 169.0 0.8441780821917808\n",
      "E:\\\\Quarmen\\\\\n",
      "584 169.5 0.8458904109589042\n",
      "E:\\\\Quarmen\\\\\n",
      "584 170.0 0.8493150684931506\n",
      "E:\\\\Quarmen\\\\\n",
      "584 170.5 0.851027397260274\n",
      "E:\\\\Quarmen\\\\\n",
      "584 171.0 0.8544520547945206\n",
      "E:\\\\Quarmen\\\\\n",
      "584 171.5 0.8561643835616438\n",
      "E:\\\\Quarmen\\\\\n",
      "584 172.0 0.8595890410958904\n",
      "E:\\\\Quarmen\\\\\n",
      "584 172.5 0.8613013698630136\n",
      "E:\\\\Quarmen\\\\\n",
      "584 173.0 0.8647260273972602\n",
      "E:\\\\Quarmen\\\\\n",
      "584 173.5 0.8664383561643836\n",
      "E:\\\\Quarmen\\\\\n",
      "584 174.0 0.8698630136986302\n",
      "E:\\\\Quarmen\\\\\n",
      "584 174.5 0.8715753424657534\n",
      "E:\\\\Quarmen\\\\\n",
      "584 175.0 0.875\n",
      "E:\\\\Quarmen\\\\\n",
      "584 175.5 0.8767123287671232\n",
      "E:\\\\Quarmen\\\\\n",
      "584 176.0 0.8784246575342466\n",
      "E:\\\\Quarmen\\\\\n",
      "584 176.5 0.8818493150684932\n",
      "E:\\\\Quarmen\\\\\n",
      "584 177.0 0.8835616438356164\n",
      "E:\\\\Quarmen\\\\\n",
      "584 177.5 0.886986301369863\n",
      "E:\\\\Quarmen\\\\\n",
      "584 178.0 0.8886986301369864\n",
      "E:\\\\Quarmen\\\\\n",
      "584 178.5 0.8921232876712328\n",
      "E:\\\\Quarmen\\\\\n",
      "584 179.0 0.8938356164383562\n",
      "E:\\\\Quarmen\\\\\n",
      "584 179.5 0.8972602739726028\n",
      "E:\\\\Quarmen\\\\\n",
      "584 180.0 0.898972602739726\n",
      "E:\\\\Quarmen\\\\\n",
      "584 180.5 0.9023972602739726\n",
      "E:\\\\Quarmen\\\\\n",
      "584 181.0 0.9041095890410958\n",
      "E:\\\\Quarmen\\\\\n",
      "584 181.5 0.9058219178082192\n",
      "E:\\\\Quarmen\\\\\n",
      "584 182.0 0.9092465753424658\n",
      "E:\\\\Quarmen\\\\\n",
      "584 182.5 0.910958904109589\n",
      "E:\\\\Quarmen\\\\\n",
      "584 183.0 0.9143835616438356\n",
      "E:\\\\Quarmen\\\\\n",
      "584 183.5 0.916095890410959\n",
      "E:\\\\Quarmen\\\\\n",
      "584 184.0 0.9195205479452054\n",
      "E:\\\\Quarmen\\\\\n",
      "584 184.5 0.9212328767123288\n",
      "E:\\\\Quarmen\\\\\n",
      "584 185.0 0.9246575342465754\n",
      "E:\\\\Quarmen\\\\\n",
      "584 185.5 0.9263698630136986\n",
      "E:\\\\Quarmen\\\\\n",
      "584 186.0 0.9297945205479452\n",
      "E:\\\\Quarmen\\\\\n",
      "584 186.5 0.9315068493150684\n",
      "E:\\\\Quarmen\\\\\n",
      "584 187.0 0.934931506849315\n",
      "E:\\\\Quarmen\\\\\n",
      "584 187.5 0.9366438356164384\n",
      "E:\\\\Quarmen\\\\\n",
      "584 188.0 0.9383561643835616\n",
      "E:\\\\Quarmen\\\\\n",
      "584 188.5 0.9417808219178082\n",
      "E:\\\\Quarmen\\\\\n",
      "584 189.0 0.9434931506849316\n",
      "E:\\\\Quarmen\\\\\n",
      "584 189.5 0.946917808219178\n",
      "E:\\\\Quarmen\\\\\n",
      "584 190.0 0.9486301369863014\n",
      "E:\\\\Quarmen\\\\\n",
      "584 190.5 0.952054794520548\n",
      "E:\\\\Quarmen\\\\\n",
      "584 191.0 0.9537671232876712\n",
      "E:\\\\Quarmen\\\\\n",
      "584 191.5 0.9571917808219178\n",
      "E:\\\\Quarmen\\\\\n",
      "584 192.0 0.958904109589041\n",
      "E:\\\\Quarmen\\\\\n",
      "584 192.5 0.9623287671232876\n",
      "E:\\\\Quarmen\\\\\n",
      "584 193.0 0.964041095890411\n",
      "E:\\\\Quarmen\\\\\n",
      "584 193.5 0.9674657534246576\n",
      "E:\\\\Quarmen\\\\\n",
      "584 194.0 0.9691780821917808\n",
      "E:\\\\Quarmen\\\\\n",
      "584 194.5 0.9708904109589042\n",
      "E:\\\\Quarmen\\\\\n",
      "584 195.0 0.9743150684931506\n",
      "E:\\\\Quarmen\\\\\n",
      "584 195.5 0.976027397260274\n",
      "E:\\\\Quarmen\\\\\n",
      "584 196.0 0.9794520547945206\n",
      "E:\\\\Quarmen\\\\\n",
      "584 196.5 0.9811643835616438\n",
      "E:\\\\Quarmen\\\\\n",
      "584 197.0 0.9845890410958904\n",
      "E:\\\\Quarmen\\\\\n",
      "584 197.5 0.9863013698630136\n",
      "E:\\\\Quarmen\\\\\n",
      "584 198.0 0.9897260273972602\n",
      "E:\\\\Quarmen\\\\\n",
      "584 198.5 0.9914383561643836\n",
      "E:\\\\Quarmen\\\\\n",
      "584 199.0 0.9948630136986302\n",
      "E:\\\\Quarmen\\\\\n",
      "584 199.5 0.9965753424657534\n"
     ]
    }
   ],
   "source": [
    "from solver.af_loader import *\n",
    "\n",
    "\n",
    "sim_state = []\n",
    "sim_state2 = []\n",
    "\n",
    "zz= []\n",
    "n_state=400\n",
    "for passage in range(1, n_state):\n",
    "    saveDir = saveDir\n",
    "    print(saveDir)\n",
    "    my_mesh = mesh(saveDir+\"\\\\\")\n",
    "    stride_read = 1\n",
    "\n",
    "    ntotalfiles = len([f for f in os.listdir(saveDir+\"\\\\gnlse_field\\\\\") if f.endswith('.af')])\n",
    "    index = int(ntotalfiles * passage/n_state)-1\n",
    "\n",
    "    print(ntotalfiles,passage/n_passages, (index+1)/ntotalfiles)\n",
    "    \n",
    "    \n",
    "    simulation_data,zs = load_data_folder(saveDir+\"\\\\gnlse_field\\\\\", my_mesh,index=1,stride_read=stride_read, index_to_read = index)\n",
    "    simulation_data2,zs = load_data_folder(saveDir+\"\\\\gnlse_field2\\\\\",my_mesh, index=2, stride_read=stride_read, index_to_read = index)\n",
    "    \n",
    "    sim_state.append(np.transpose(simulation_data[0]))\n",
    "    sim_state2.append(np.transpose(simulation_data2[0]))\n",
    "    zz.append(zs[0])\n",
    "\n",
    "    \n",
    "sim_state=np.array(sim_state)\n",
    "sim_state2=np.array(sim_state2)"
   ]
  },
  {
   "cell_type": "markdown",
   "metadata": {},
   "source": [
    "## 2.2 Plot States"
   ]
  },
  {
   "cell_type": "code",
   "execution_count": 8,
   "metadata": {},
   "outputs": [
    {
     "data": {
      "text/plain": [
       "Text(0, 0.5, '$z(mm)$')"
      ]
     },
     "execution_count": 8,
     "metadata": {},
     "output_type": "execute_result"
    },
    {
     "data": {
      "image/png": "[encoded data removed]",
      "text/plain": [
       "<Figure size 720x288 with 2 Axes>"
      ]
     },
     "metadata": {
      "needs_background": "light"
     },
     "output_type": "display_data"
    },
    {
     "data": {
      "image/png": "[encoded data removed]",
      "text/plain": [
       "<Figure size 720x288 with 2 Axes>"
      ]
     },
     "metadata": {
      "needs_background": "light"
     },
     "output_type": "display_data"
    }
   ],
   "source": [
    "from solver.analysis_auxiliary_functions import *\n",
    "import cmocean\n",
    "\n",
    "fig,ax = plt.subplots(1,2,figsize=[10,4])\n",
    "extent = [0,SBN_sim.lx*1e3,0,SBN_sim.lz*1e3]\n",
    "\n",
    "ax[0].set_title(r'$|E_1|^2$')\n",
    "ax[0].imshow(np.abs(sim_state)**2, aspect='auto', extent = extent, origin='lower', cmap=cmocean.cm.speed_r)\n",
    "ax[1].imshow(np.angle(sim_state), aspect='auto', extent = extent, origin='lower', cmap=plt.cm.twilight_shifted)\n",
    "ax[0].set_xlabel(r'$x(mm)$')\n",
    "ax[0].set_ylabel(r'$z(mm)$')\n",
    "\n",
    "fig,ax = plt.subplots(1,2,figsize=[10,4])\n",
    "extent = [0,SBN_sim.lx*1e3,0,SBN_sim.lz*1e3]\n",
    "\n",
    "ax[0].set_title(r'$|E_1|^2$')\n",
    "ax[0].imshow(np.abs(sim_state2)**2, aspect='auto', extent = extent, origin='lower', cmap=cmocean.cm.speed_r)\n",
    "ax[1].imshow(np.angle(sim_state2), aspect='auto', extent = extent, origin='lower', cmap=plt.cm.twilight_shifted)\n",
    "ax[0].set_xlabel(r'$x(mm)$')\n",
    "ax[0].set_ylabel(r'$z(mm)$')\n"
   ]
  },
  {
   "cell_type": "code",
   "execution_count": 9,
   "metadata": {},
   "outputs": [
    {
     "data": {
      "application/vnd.jupyter.widget-view+json": {
       "model_id": "55c52d3ab55d43039dd76e4127232e48",
       "version_major": 2,
       "version_minor": 0
      },
      "text/plain": [
       "Canvas(toolbar=Toolbar(toolitems=[('Home', 'Reset original view', 'home', 'home'), ('Back', 'Back to previous …"
      ]
     },
     "metadata": {},
     "output_type": "display_data"
    }
   ],
   "source": [
    "%matplotlib widget\n",
    "\n",
    "fig,ax = plt.subplots(1,1,figsize=[10,4])\n",
    "\n",
    "\n",
    "fft_sim = np.fft.fftshift(np.fft.fft2(If1-np.abs(sim_state)**2))+ np.fft.fftshift(np.fft.fft2(If2-np.abs(sim_state2)**2))\n",
    "#fft_sim = np.fft.fftshift(np.fft.fft2(If2-np.abs(sim_state2)**2))\n",
    "kkx = 2*np.pi*np.fft.fftshift(np.fft.fftfreq(sim_state.shape[1],SBN_sim.lx/SBN_sim.Nx))\n",
    "omega_z = 2*np.pi*np.fft.fftshift(np.fft.fftfreq(sim_state.shape[0],SBN_sim.lz/sim_state.shape[0]))\n",
    "ax.imshow(np.log10(np.abs(fft_sim)**2), aspect='auto',\n",
    "          extent = [np.min(kkx),np.max(kkx),np.min(omega_z),np.max(omega_z)],\n",
    "           origin='lower', cmap=plt.cm.inferno)\n",
    "\n",
    "ax.set_xlabel(r'$k_x(m^{-1})$')\n",
    "ax.set_ylabel(r'$\\omega_z(m^{-1})$')\n",
    "\n",
    "kx=np.linspace(-5,5,100)\n",
    "\n",
    "fig.tight_layout()\n"
   ]
  },
  {
   "cell_type": "markdown",
   "metadata": {},
   "source": [
    "## Exercise1:  Fit the Bogoliubov Dispersion relation\n",
    "\n",
    "Linearize this model\n",
    "$$ i \\partial_z E_{1} + \\frac{1}{2} \\nabla ^{2}_{\\perp} E_{1} + c_{1} \\Delta n_{max} \\frac{|E_1|^2 + |E_2|^2}{I_{sat}+|E_1|^2 + |E_2|^2} E_1+ \\alpha E_1 = 0$$\n",
    "taking E2=0, E1<<Isat, \\alpha=0\n",
    "\n",
    "$$ i \\partial_z E_{1} + \\frac{1}{2} \\nabla ^{2}_{\\perp} E_{1} + c_{1} \\Delta n_{max} \\frac{|E_1|^2}{I_{sat}} E_1= 0$$\n",
    "\n",
    "in laboratory units we have\n",
    "\n",
    "$$ \\frac{i}{k} \\partial_z E_{1} + \\frac{1}{2 k^2 ne} \\nabla ^{2}_{\\perp} E_{1} + c_{1} \\Delta n_{max} \\frac{|E_1|^2}{I_{sat}} E_1= 0$$\n",
    "\n",
    "\n",
    "k=2pi/lambda (lambda=532nm) ne=2.33"
   ]
  },
  {
   "cell_type": "markdown",
   "metadata": {},
   "source": []
  },
  {
   "cell_type": "code",
   "execution_count": 18,
   "metadata": {},
   "outputs": [
    {
     "data": {
      "application/vnd.jupyter.widget-view+json": {
       "model_id": "5d2b8ece876d49ec9b39ef3628510d9e",
       "version_major": 2,
       "version_minor": 0
      },
      "text/plain": [
       "Canvas(toolbar=Toolbar(toolitems=[('Home', 'Reset original view', 'home', 'home'), ('Back', 'Back to previous …"
      ]
     },
     "metadata": {},
     "output_type": "display_data"
    }
   ],
   "source": [
    "%matplotlib widget\n",
    "\n",
    "fig,ax = plt.subplots(1,1,figsize=[5,4])\n",
    "\n",
    "\n",
    "\n",
    "k0=2*np.pi/(532e-9)\n",
    "ne=2.33\n",
    "E0=np.sqrt(40)\n",
    "delta_n_max = SBN_sim.delta_n_max\n",
    "g = delta_n_max*E0**2/Isat\n",
    "\n",
    "def bogoliubov(k):\n",
    "    k1=k/np.sqrt(ne*k0**2)\n",
    "    omega = np.sqrt(k1**4/(4)+g*k1**2)\n",
    "    return omega*(k0)\n",
    "\n",
    "fft_sim = np.fft.fftshift(np.fft.fft2(If1-np.abs(sim_state)**2))+ np.fft.fftshift(np.fft.fft2(If2-np.abs(sim_state2)**2))\n",
    "#fft_sim = np.fft.fftshift(np.fft.fft2(If2-np.abs(sim_state2)**2))\n",
    "kkx = 2*np.pi*np.fft.fftshift(np.fft.fftfreq(sim_state.shape[1],SBN_sim.lx/SBN_sim.Nx))\n",
    "omega_z = 2*np.pi*np.fft.fftshift(np.fft.fftfreq(sim_state.shape[0],SBN_sim.lz/sim_state.shape[0]))\n",
    "ax.imshow(np.log10(np.abs(fft_sim)**2), aspect='auto',\n",
    "          extent = [np.min(kkx),np.max(kkx),np.min(omega_z),np.max(omega_z)],\n",
    "           origin='lower', cmap=plt.cm.inferno)\n",
    "\n",
    "ax.plot(kkx,bogoliubov(kkx),ls='--',color='k')\n",
    "ax.set_xlabel(r'$k_x(m^{-1})$')\n",
    "ax.set_ylabel(r'$\\omega_z(m^{-1})$')\n",
    "\n",
    "kx=np.linspace(-5,5,100)\n",
    "\n",
    "fig.tight_layout()"
   ]
  },
  {
   "cell_type": "markdown",
   "metadata": {},
   "source": [
    "## 3. Setting up a 2D simulation"
   ]
  },
  {
   "cell_type": "code",
   "execution_count": 53,
   "metadata": {},
   "outputs": [
    {
     "name": "stdout",
     "output_type": "stream",
     "text": [
      "delta_n -> 0.0001235560064\n",
      "lx -> 302.4397292938621\n",
      "ly -> 226.81088976051322\n",
      "lz -> 116.74064421447622\n",
      "healing length - > 7.012273216965854e-05\n",
      "dx-> 0.5907025962770744 dy-> 0.4429900190635024\n",
      "total steps to simulate -> 93\n",
      "(512, 512)\n",
      "(512, 512)\n",
      "sound velocity -> 0.4472135954999579 fluid velocity -> 0.8264043238748938\n",
      "sound velocity 0.4472135954999579 0.8264043238748938\n"
     ]
    },
    {
     "data": {
      "application/vnd.jupyter.widget-view+json": {
       "model_id": "7a3f1427d8b64d5c95cca256766a7a93",
       "version_major": 2,
       "version_minor": 0
      },
      "text/plain": [
       "Canvas(toolbar=Toolbar(toolitems=[('Home', 'Reset original view', 'home', 'home'), ('Back', 'Back to previous …"
      ]
     },
     "metadata": {},
     "output_type": "display_data"
    }
   ],
   "source": [
    "# Simulation Box to match experiment\n",
    "pixel_pitch = 1.25e-6\n",
    "magnification = 200/60\n",
    "x_camera = np.arange(0,4000)*pixel_pitch  #micrometers\n",
    "y_camera = np.arange(0,3000)*pixel_pitch\n",
    "\n",
    "\n",
    "\n",
    "## Crystal\n",
    "lx=x_camera[-1]/ magnification\n",
    "ly=y_camera[-1]/ magnification\n",
    "lz=20e-3\n",
    "n_passages = 4 ###increase to see more dynamics, but in reality we have just 1\n",
    "\n",
    "## start digital twin model\n",
    "c1 = 1 #rxx / r33\n",
    "c2 = 0*40/250 # rxx / r33\n",
    "V=400\n",
    "Isat = 200 #mW/cm2\n",
    "\n",
    "SBN_sim = DigitalTwin(lx=lx,ly=ly,lz=n_passages * lz,\n",
    "                      V=V,c1=c1,c2=c2,Isat=Isat,\n",
    "                      alpha=0)\n",
    "\n",
    "saveDir = 'E:\\\\Quarmen2d_4\\\\'\n",
    "\n",
    "SBN_sim.start_simulation_config(Nx=512,Ny=512,dz=0.05,dims=2, save_dir=saveDir,stride=25)\n",
    "\n",
    "\n",
    "#######################################################################################\n",
    "#############State Initialization######################################################\n",
    "#######################################################################################\n",
    "\n",
    "If1=40\n",
    "\n",
    "factor_t = SBN_sim.factor_t\n",
    "\n",
    "SUPER_GAUSS_EXP = 2\n",
    "\n",
    "X, Y = SBN_sim.xx, SBN_sim.yy\n",
    "X -= X.max()/2\n",
    "Y -= Y.max()/2\n",
    "\n",
    "\n",
    "########################################################\n",
    "#################   E1    ##############################\n",
    "########################################################\n",
    "\n",
    "velocity = 5.0e4 *(200/60) / factor_t \n",
    "\n",
    "gaussian_beam = np.zeros(np.shape(X)) + 0j\n",
    "\n",
    "wx1 = 800e-6 * factor_t\n",
    "wy1 = 800e-6 * factor_t\n",
    "\n",
    "x_pos = -0* 200e-6 * factor_t\n",
    "y_pos = 0\n",
    "\n",
    "gaussian_beam += np.exp(-((2.0* (\n",
    "                        (X - x_pos) ** 2.0 / (wx1**2.0)\n",
    "                    +   (Y - y_pos) ** 2.0 / (wy1**2.0)\n",
    "                        ))** SUPER_GAUSS_EXP)) + 0.00000000000000000001 + 0j\n",
    "\n",
    "gaussian_beam*=np.exp(1j*velocity*X)\n",
    "\n",
    "print(\"sound velocity ->\", np.sqrt(If1/Isat), \"fluid velocity ->\", velocity)\n",
    "\n",
    "gaussian_beam*=np.sqrt(If1)\n",
    "\n",
    "A_noise=0.01\n",
    "gaussian_beam = gaussian_beam*(1+whitenoise_2d_field(X,A_noise))\n",
    "SBN_sim.field1.add_field_numpy(gaussian_beam)\n",
    "\n",
    "\n",
    "########################################################\n",
    "#################   E2    ##############################\n",
    "########################################################\n",
    "\n",
    "If2=200\n",
    "\n",
    "v2 = 0\n",
    "\n",
    "gaussian_beam = np.zeros(np.shape(X)) + 0j\n",
    "\n",
    "wx1 = 100e-6 * factor_t\n",
    "wy1 = 100e-6 * factor_t\n",
    "\n",
    "x_pos = 0\n",
    "y_pos = 0\n",
    "\n",
    "gaussian_beam += np.exp(-((2.0* (\n",
    "                        (X - x_pos) ** 2.0 / (wx1**2.0)\n",
    "                    +   (Y - y_pos) ** 2.0 / (wy1**2.0)\n",
    "                        ))** SUPER_GAUSS_EXP)) + 0.00000000000000000001 + 0j\n",
    "\n",
    "gaussian_beam*=np.exp(1j*v2*X)\n",
    "\n",
    "print(\"sound velocity\", np.sqrt(If1/Isat), velocity)\n",
    "\n",
    "gaussian_beam*=np.sqrt(If2)\n",
    "A_noise=0.01\n",
    "gaussian_beam = gaussian_beam*(1+whitenoise_2d_field(X,A_noise))\n",
    "\n",
    "\n",
    "SBN_sim.field2.add_field_numpy(gaussian_beam)\n",
    "\n",
    "SBN_sim.plot()"
   ]
  },
  {
   "cell_type": "code",
   "execution_count": 54,
   "metadata": {},
   "outputs": [
    {
     "name": "stdout",
     "output_type": "stream",
     "text": [
      "Stride 0 of 93\n",
      "Stride 1 of 93\n",
      "Stride 2 of 93\n",
      "Stride 3 of 93\n",
      "Stride 4 of 93\n",
      "Stride 5 of 93\n",
      "Stride 6 of 93\n",
      "Stride 7 of 93\n",
      "Stride 8 of 93\n",
      "Stride 9 of 93\n",
      "Stride 10 of 93\n",
      "Stride 11 of 93\n",
      "Stride 12 of 93\n",
      "Stride 13 of 93\n",
      "Stride 14 of 93\n",
      "Stride 15 of 93\n",
      "Stride 16 of 93\n",
      "Stride 17 of 93\n",
      "Stride 18 of 93\n",
      "Stride 19 of 93\n",
      "Stride 20 of 93\n",
      "Stride 21 of 93\n",
      "Stride 22 of 93\n",
      "Stride 23 of 93\n",
      "Stride 24 of 93\n",
      "Stride 25 of 93\n",
      "Stride 26 of 93\n",
      "Stride 27 of 93\n",
      "Stride 28 of 93\n",
      "Stride 29 of 93\n",
      "Stride 30 of 93\n",
      "Stride 31 of 93\n",
      "Stride 32 of 93\n",
      "Stride 33 of 93\n",
      "Stride 34 of 93\n",
      "Stride 35 of 93\n",
      "Stride 36 of 93\n",
      "Stride 37 of 93\n",
      "Stride 38 of 93\n",
      "Stride 39 of 93\n",
      "Stride 40 of 93\n",
      "Stride 41 of 93\n",
      "Stride 42 of 93\n",
      "Stride 43 of 93\n",
      "Stride 44 of 93\n",
      "Stride 45 of 93\n",
      "Stride 46 of 93\n",
      "Stride 47 of 93\n",
      "Stride 48 of 93\n",
      "Stride 49 of 93\n",
      "Stride 50 of 93\n",
      "Stride 51 of 93\n",
      "Stride 52 of 93\n",
      "Stride 53 of 93\n",
      "Stride 54 of 93\n",
      "Stride 55 of 93\n",
      "Stride 56 of 93\n",
      "Stride 57 of 93\n",
      "Stride 58 of 93\n",
      "Stride 59 of 93\n",
      "Stride 60 of 93\n",
      "Stride 61 of 93\n",
      "Stride 62 of 93\n",
      "Stride 63 of 93\n",
      "Stride 64 of 93\n",
      "Stride 65 of 93\n",
      "Stride 66 of 93\n",
      "Stride 67 of 93\n",
      "Stride 68 of 93\n",
      "Stride 69 of 93\n",
      "Stride 70 of 93\n",
      "Stride 71 of 93\n",
      "Stride 72 of 93\n",
      "Stride 73 of 93\n",
      "Stride 74 of 93\n",
      "Stride 75 of 93\n",
      "Stride 76 of 93\n",
      "Stride 77 of 93\n",
      "Stride 78 of 93\n",
      "Stride 79 of 93\n",
      "Stride 80 of 93\n",
      "Stride 81 of 93\n",
      "Stride 82 of 93\n",
      "Stride 83 of 93\n",
      "Stride 84 of 93\n",
      "Stride 85 of 93\n",
      "Stride 86 of 93\n",
      "Stride 87 of 93\n",
      "Stride 88 of 93\n",
      "Stride 89 of 93\n",
      "Stride 90 of 93\n",
      "Stride 91 of 93\n",
      "Stride 92 of 93\n"
     ]
    }
   ],
   "source": [
    "simulate = True\n",
    "if simulate:\n",
    "    SBN_sim.run()"
   ]
  },
  {
   "cell_type": "markdown",
   "metadata": {},
   "source": [
    "## 2. Analysis"
   ]
  },
  {
   "cell_type": "markdown",
   "metadata": {},
   "source": [
    "## 2.1 Load Data"
   ]
  },
  {
   "cell_type": "code",
   "execution_count": 55,
   "metadata": {},
   "outputs": [
    {
     "name": "stdout",
     "output_type": "stream",
     "text": [
      "E:\\Quarmen2d_4\\\n",
      "94 0.0 0.0\n",
      "E:\\Quarmen2d_4\\\n",
      "94 0.25 0.010638297872340425\n",
      "E:\\Quarmen2d_4\\\n",
      "94 0.5 0.031914893617021274\n",
      "E:\\Quarmen2d_4\\\n",
      "94 0.75 0.05319148936170213\n",
      "E:\\Quarmen2d_4\\\n",
      "94 1.0 0.07446808510638298\n",
      "E:\\Quarmen2d_4\\\n",
      "94 1.25 0.09574468085106383\n",
      "E:\\Quarmen2d_4\\\n",
      "94 1.5 0.11702127659574468\n",
      "E:\\Quarmen2d_4\\\n",
      "94 1.75 0.13829787234042554\n",
      "E:\\Quarmen2d_4\\\n",
      "94 2.0 0.1595744680851064\n",
      "E:\\Quarmen2d_4\\\n",
      "94 2.25 0.1702127659574468\n",
      "E:\\Quarmen2d_4\\\n",
      "94 2.5 0.19148936170212766\n",
      "E:\\Quarmen2d_4\\\n",
      "94 2.75 0.2127659574468085\n",
      "E:\\Quarmen2d_4\\\n",
      "94 3.0 0.23404255319148937\n",
      "E:\\Quarmen2d_4\\\n",
      "94 3.25 0.2553191489361702\n",
      "E:\\Quarmen2d_4\\\n",
      "94 3.5 0.2765957446808511\n",
      "E:\\Quarmen2d_4\\\n",
      "94 3.75 0.2978723404255319\n",
      "E:\\Quarmen2d_4\\\n",
      "94 4.0 0.3191489361702128\n",
      "E:\\Quarmen2d_4\\\n",
      "94 4.25 0.32978723404255317\n",
      "E:\\Quarmen2d_4\\\n",
      "94 4.5 0.35106382978723405\n",
      "E:\\Quarmen2d_4\\\n",
      "94 4.75 0.3723404255319149\n",
      "E:\\Quarmen2d_4\\\n",
      "94 5.0 0.39361702127659576\n",
      "E:\\Quarmen2d_4\\\n",
      "94 5.25 0.4148936170212766\n",
      "E:\\Quarmen2d_4\\\n",
      "94 5.5 0.43617021276595747\n",
      "E:\\Quarmen2d_4\\\n",
      "94 5.75 0.4574468085106383\n",
      "E:\\Quarmen2d_4\\\n",
      "94 6.0 0.4787234042553192\n",
      "E:\\Quarmen2d_4\\\n",
      "94 6.25 0.5\n",
      "E:\\Quarmen2d_4\\\n",
      "94 6.5 0.5106382978723404\n",
      "E:\\Quarmen2d_4\\\n",
      "94 6.75 0.5319148936170213\n",
      "E:\\Quarmen2d_4\\\n",
      "94 7.0 0.5531914893617021\n",
      "E:\\Quarmen2d_4\\\n",
      "94 7.25 0.574468085106383\n",
      "E:\\Quarmen2d_4\\\n",
      "94 7.5 0.5957446808510638\n",
      "E:\\Quarmen2d_4\\\n",
      "94 7.75 0.6170212765957447\n",
      "E:\\Quarmen2d_4\\\n",
      "94 8.0 0.6382978723404256\n",
      "E:\\Quarmen2d_4\\\n",
      "94 8.25 0.6595744680851063\n",
      "E:\\Quarmen2d_4\\\n",
      "94 8.5 0.6702127659574468\n",
      "E:\\Quarmen2d_4\\\n",
      "94 8.75 0.6914893617021277\n",
      "E:\\Quarmen2d_4\\\n",
      "94 9.0 0.7127659574468085\n",
      "E:\\Quarmen2d_4\\\n",
      "94 9.25 0.7340425531914894\n",
      "E:\\Quarmen2d_4\\\n",
      "94 9.5 0.7553191489361702\n",
      "E:\\Quarmen2d_4\\\n",
      "94 9.75 0.776595744680851\n",
      "E:\\Quarmen2d_4\\\n",
      "94 10.0 0.7978723404255319\n",
      "E:\\Quarmen2d_4\\\n",
      "94 10.25 0.8191489361702128\n",
      "E:\\Quarmen2d_4\\\n",
      "94 10.5 0.8297872340425532\n",
      "E:\\Quarmen2d_4\\\n",
      "94 10.75 0.851063829787234\n",
      "E:\\Quarmen2d_4\\\n",
      "94 11.0 0.8723404255319149\n",
      "E:\\Quarmen2d_4\\\n",
      "94 11.25 0.8936170212765957\n",
      "E:\\Quarmen2d_4\\\n",
      "94 11.5 0.9148936170212766\n",
      "E:\\Quarmen2d_4\\\n",
      "94 11.75 0.9361702127659575\n",
      "E:\\Quarmen2d_4\\\n",
      "94 12.0 0.9574468085106383\n",
      "E:\\Quarmen2d_4\\\n",
      "94 12.25 0.9787234042553191\n"
     ]
    }
   ],
   "source": [
    "from solver.af_loader import *\n",
    "\n",
    "\n",
    "sim_state = []\n",
    "sim_state2 = []\n",
    "\n",
    "zz= []\n",
    "n_state=50\n",
    "for passage in range(0, n_state):\n",
    "    saveDir = saveDir\n",
    "    print(saveDir)\n",
    "    my_mesh = mesh(saveDir+\"\\\\\")\n",
    "    stride_read = 1\n",
    "\n",
    "    ntotalfiles = len([f for f in os.listdir(saveDir+\"\\\\gnlse_field\\\\\") if f.endswith('.af')])\n",
    "    index = int(ntotalfiles * passage/n_state)-1\n",
    "\n",
    "    print(ntotalfiles,passage/n_passages, (index+1)/ntotalfiles)\n",
    "    \n",
    "    \n",
    "    simulation_data,zs = load_data_folder(saveDir+\"\\\\gnlse_field\\\\\", my_mesh,index=1,stride_read=stride_read, index_to_read = index)\n",
    "    simulation_data2,zs = load_data_folder(saveDir+\"\\\\gnlse_field2\\\\\",my_mesh, index=2, stride_read=stride_read, index_to_read = index)\n",
    "    \n",
    "    sim_state.append(np.transpose(simulation_data[0]))\n",
    "    sim_state2.append(np.transpose(simulation_data2[0]))\n",
    "    zz.append(zs[0])\n",
    "\n",
    "    \n",
    "sim_state=np.array(sim_state)\n",
    "sim_state2=np.array(sim_state2)"
   ]
  },
  {
   "cell_type": "markdown",
   "metadata": {},
   "source": [
    "## 2.2 Plot States"
   ]
  },
  {
   "cell_type": "code",
   "execution_count": 56,
   "metadata": {},
   "outputs": [
    {
     "data": {
      "application/vnd.jupyter.widget-view+json": {
       "model_id": "010d8ba601384839857e87b1e86bd8af",
       "version_major": 2,
       "version_minor": 0
      },
      "text/plain": [
       "Canvas(toolbar=Toolbar(toolitems=[('Home', 'Reset original view', 'home', 'home'), ('Back', 'Back to previous …"
      ]
     },
     "metadata": {},
     "output_type": "display_data"
    },
    {
     "data": {
      "application/vnd.jupyter.widget-view+json": {
       "model_id": "104fd9e9be0743ebb8ec24df22755ae2",
       "version_major": 2,
       "version_minor": 0
      },
      "text/plain": [
       "Canvas(toolbar=Toolbar(toolitems=[('Home', 'Reset original view', 'home', 'home'), ('Back', 'Back to previous …"
      ]
     },
     "metadata": {},
     "output_type": "display_data"
    },
    {
     "data": {
      "text/plain": [
       "Text(0, 0.5, '$y(mm)$')"
      ]
     },
     "execution_count": 56,
     "metadata": {},
     "output_type": "execute_result"
    }
   ],
   "source": [
    "%matplotlib widget\n",
    "from solver.analysis_auxiliary_functions import *\n",
    "import cmocean\n",
    "\n",
    "index_plot = 12\n",
    "z_value = zz[index_plot]/SBN_sim.factor_z*1e2\n",
    "extent = [0,SBN_sim.lx*1e3,0,SBN_sim.ly*1e3]\n",
    "\n",
    "fig,ax = plt.subplots(1,2,figsize=[10,4])\n",
    "\n",
    "fig.suptitle(r'$z='+str(np.round(z_value,2))+'$ cm')\n",
    "ax[0].set_title(r'$|E_1|^2$')\n",
    "ax[0].imshow(np.abs(sim_state[index_plot])**2, aspect=SBN_sim.Nx / SBN_sim.Ny, extent = extent, origin='lower', cmap=cmocean.cm.speed_r)\n",
    "ax[0].set_xlabel(r'$x(mm)$')\n",
    "ax[0].set_ylabel(r'$y(mm)$')\n",
    "\n",
    "ax[1].set_title(r'$\\phi_1$')\n",
    "ax[1].imshow(np.angle(sim_state[index_plot]), aspect=SBN_sim.Nx / SBN_sim.Ny, extent=extent, origin='lower', cmap=plt.cm.twilight_shifted)\n",
    "ax[1].set_xlabel(r'$x(mm)$')\n",
    "ax[1].set_ylabel(r'$y(mm)$')\n",
    "\n",
    "\n",
    "fig,ax = plt.subplots(1,2,figsize=[10,4])\n",
    "\n",
    "fig.suptitle(r'$z='+str(np.round(z_value,2))+'$ cm')\n",
    "ax[0].set_title(r'$|E_2|^2$')\n",
    "im = ax[0].imshow(np.abs(sim_state2[index_plot])**2, aspect=SBN_sim.Nx / SBN_sim.Ny, extent = extent, origin='lower', cmap=plt.cm.gist_heat)\n",
    "ax[0].set_xlabel(r'$x(mm)$')\n",
    "ax[0].set_ylabel(r'$y(mm)$')\n",
    "plt.colorbar(im)\n",
    "\n",
    "ax[1].set_title(r'$\\phi_2$')\n",
    "ax[1].imshow(np.angle(sim_state2[index_plot]), aspect=SBN_sim.Nx / SBN_sim.Ny, extent=extent, origin='lower', cmap=plt.cm.twilight_shifted)\n",
    "ax[1].set_xlabel(r'$x(mm)$')\n",
    "ax[1].set_ylabel(r'$y(mm)$')\n"
   ]
  },
  {
   "cell_type": "markdown",
   "metadata": {},
   "source": [
    "## 2.3 Plot multiple states with ROI"
   ]
  },
  {
   "cell_type": "code",
   "execution_count": 57,
   "metadata": {},
   "outputs": [],
   "source": [
    "\n",
    "######\n",
    "######just some auxiliary functions\n",
    "\n",
    "from mpl_toolkits.axes_grid1 import make_axes_locatable\n",
    "\n",
    "\n",
    "def get_ROI_CM(state, wx,wy, factor_t, dx,dy):\n",
    "    ##wx, wy in micrometers around center of mass\n",
    "    width_x, width_y = wx*factor_t/dx,wy*factor_t/dy\n",
    "\n",
    "    center_of_mass_x, center_of_mass_y = get_center_of_mass_index(state)\n",
    "    ix0, ix1 = int(center_of_mass_x - int(width_x)/2), int(center_of_mass_x + int(width_x)/2) \n",
    "    iy0, iy1 = int(center_of_mass_y - int(width_y)/2), int(center_of_mass_y + int(width_y)/2)\n",
    "\n",
    "    return {'ix_min':ix0, 'ix_max':ix1, 'iy_min':iy0, 'iy_max': iy1}\n",
    "\n",
    "\n",
    "def simple_ticks(ax, extent, axis='xy'):\n",
    "\n",
    "    yticks = [extent[2],extent[2]+(extent[3]-extent[2]) /2, extent[3]]\n",
    "    blankyticks = ['' for i in yticks]\n",
    "    ytickslabels = [np.str(int(i)) for i in yticks]\n",
    "    print(yticks,ytickslabels)\n",
    "    xticks = [extent[0],extent[0]+(extent[1]-extent[0])/2, extent[1]]\n",
    "    blankxticks = ['' for i in yticks]\n",
    "    xtickslabels = [np.str(int(i)) for i in xticks]\n",
    "    \n",
    "    \n",
    "    if axis == None:\n",
    "        ax.set_yticks(yticks)\n",
    "        ax.set_yticklabels(blankyticks)\n",
    "        ax.set_xticks(xticks)\n",
    "        ax.set_xticklabels(blankxticks)\n",
    "        ax.set_xlabel(r'')\n",
    "        ax.set_ylabel(r'')\n",
    "\n",
    "\n",
    "\n",
    "    elif axis == 'x':\n",
    "        ax.set_yticks(yticks)\n",
    "        ax.set_yticklabels(blankyticks)\n",
    "        ax.set_xticks(xticks)\n",
    "        ax.set_xticklabels(xtickslabels)\n",
    "        ax.set_xlabel(r'$x(\\mu m)$')\n",
    "        ax.set_ylabel(r'')\n",
    "\n",
    "\n",
    "    elif axis == 'y':\n",
    "        ax.set_yticks(yticks)\n",
    "        ax.set_yticklabels(ytickslabels)\n",
    "        ax.set_xticks(xticks)\n",
    "        ax.set_xticklabels(blankxticks)\n",
    "        ax.set_xlabel(r'')\n",
    "        ax.set_ylabel(r'$y(\\mu m)$')\n",
    "\n",
    "\n",
    "    else:\n",
    "        ax.set_yticks(yticks)\n",
    "        ax.set_yticklabels(ytickslabels)\n",
    "        ax.set_xticks(xticks)\n",
    "        ax.set_xticklabels(xtickslabels)\n",
    "        ax.set_xlabel(r'$x(\\mu m)$')\n",
    "        ax.set_ylabel(r'$y(\\mu m)$')\n",
    "\n",
    "\n",
    "\n",
    "\n",
    "def plot_intensity(ax, state, dx, dy, ROI=None,\n",
    "                   colornorm = None, cmap=plt.cm.gist_heat,\n",
    "                   z_value = None, plot_label = None, \n",
    "                    ticks='xy',title='$|E|^2$',vmin=0,vmax=None):\n",
    "\n",
    "    if ROI == None:\n",
    "        ROI = {'ix_min':0,'ix_max':state.shape[0],'iy_min':0,'iy_max':state.shape[1]}\n",
    "    \n",
    "    _lx =(ROI['ix_max']-ROI['ix_min'])* dx\n",
    "    _ly = (ROI['iy_max']-ROI['iy_min']) * dy\n",
    "    print(_lx)\n",
    "    \n",
    "    extent = [-_lx/2,_lx/2,-_ly/2,_ly/2]\n",
    "    \n",
    "    \n",
    "\n",
    "    ax.set_title(title)\n",
    "    im = ax.imshow(np.abs(state[ROI['iy_min']:ROI['iy_max'],ROI['ix_min']:ROI['ix_max']])**2, aspect=SBN_sim.Nx / SBN_sim.Ny, \n",
    "                   extent = extent, \n",
    "                   norm = colornorm, origin='lower', cmap=cmap,\n",
    "                     vmin = vmin,vmax = vmax)\n",
    "\n",
    "    simple_ticks(ax,extent, axis=ticks)\n",
    "\n",
    "    divider = make_axes_locatable(ax)\n",
    "    cax = divider.append_axes(\"right\", size=\"5%\", pad=0.15)\n",
    "\n",
    "    cb = plt.colorbar(im,cax=cax)\n",
    "    cb.ax.set_title(r'$I_f (mW/cm^2)$',fontsize=10)\n",
    "\n",
    "\n",
    "    lz=20e-3\n",
    "    if z_value != None:\n",
    "        props = dict(boxstyle='round', facecolor='wheat', alpha=0.8)\n",
    "        ax.text(0.95, 0.05, r'$z = '+str(z_value/lz)+'L_z$', transform=ax.transAxes, fontsize=12,\n",
    "            verticalalignment='bottom',horizontalalignment='right', bbox=props)\n",
    "    \n",
    "    if plot_label != None:\n",
    "\n",
    "        props = dict(boxstyle='round', facecolor='wheat', alpha=0.0)\n",
    "        ax.text(0.05, 0.95, plot_label, transform=ax.transAxes, fontsize=12,color='w',\n",
    "            verticalalignment='top',horizontalalignment='left', bbox=props)\n",
    "\n",
    "    \n",
    "def plot_phase(ax, state, dx, dy, ROI=None,\n",
    "                   colornorm = None, cmap=plt.cm.twilight_shifted,\n",
    "                   z_value = None, plot_label = None, \n",
    "                    ticks='xy',title='$\\phi$'):\n",
    "\n",
    "    if ROI == None:\n",
    "        ROI = {'ix_min':0,'ix_max':state.shape[0],'iy_min':0,'iy_max':state.shape[1]}\n",
    "        \n",
    "    _xc = (ROI['ix_max']-ROI['ix_min'])/2 * dx\n",
    "    _lx =(ROI['ix_max']-ROI['ix_min'])* dx\n",
    "\n",
    "    _yc = (ROI['iy_max']-ROI['iy_min'])/2 * dy\n",
    "    _ly = (ROI['iy_max']-ROI['iy_min']) * dy\n",
    "    \n",
    "    extent = [-_lx/2,_lx/2,-_ly/2,_ly/2]\n",
    "    \n",
    "\n",
    "    ax.set_title(title)\n",
    "    \n",
    "    phase_to_plot = np.angle(state[ROI['iy_min']:ROI['iy_max'],ROI['ix_min']:ROI['ix_max']]+0.1)\n",
    "    #phase_to_plot = np.angle(0.1+state[ROI['iy_min']:ROI['iy_max'],ROI['ix_min']:ROI['ix_max']]*np.exp(-1j*(np.angle(np.mean(state[ROI['iy_min']:ROI['iy_max'],ROI['ix_min']:ROI['ix_max']][1500-10:1500+10,1500-10:1500+10]))+np.pi/2)))\n",
    "    phase_to_plot = (phase_to_plot-1*np.pi)%(2*np.pi) - np.pi\n",
    "\n",
    "    \n",
    "    im = ax.imshow(phase_to_plot, aspect=SBN_sim.Nx / SBN_sim.Ny, \n",
    "                   extent = extent, \n",
    "                   norm = colornorm, origin='lower', cmap=cmap,\n",
    "                     vmin = -np.pi,vmax = np.pi,interpolation='none')\n",
    "    ax.set_xlabel(r'$x(\\mu m)$')\n",
    "    ax.set_ylabel(r'$y(\\mu m)$')\n",
    "\n",
    "    simple_ticks(ax,extent, axis=ticks)\n",
    "    \n",
    "    divider = make_axes_locatable(ax)\n",
    "    cax = divider.append_axes(\"right\", size=\"5%\", pad=0.15)\n",
    "\n",
    "    cb = plt.colorbar(im,cax=cax)\n",
    "    cb.ax.set_title(r'$\\phi (rad)$',fontsize=10)\n",
    "\n",
    "\n",
    "    lz=20e-3\n",
    "    if z_value != None:\n",
    "        props = dict(boxstyle='round', facecolor='wheat', alpha=0.8)\n",
    "        ax.text(0.95, 0.05, r'$z = '+str(z_value/lz)+'L_z$', transform=ax.transAxes, fontsize=12,\n",
    "            verticalalignment='bottom',horizontalalignment='right', bbox=props)\n",
    "    \n",
    "    if plot_label != None:\n",
    "\n",
    "        props = dict(boxstyle='round', facecolor='wheat', alpha=0.0)\n",
    "        ax.text(0.05, 0.95, plot_label, transform=ax.transAxes, fontsize=12,color='w',\n",
    "            verticalalignment='top',horizontalalignment='left', bbox=props)\n"
   ]
  },
  {
   "cell_type": "code",
   "execution_count": 58,
   "metadata": {},
   "outputs": [
    {
     "data": {
      "application/vnd.jupyter.widget-view+json": {
       "model_id": "68afe4d339954f5aa9599aab23cad85a",
       "version_major": 2,
       "version_minor": 0
      },
      "text/plain": [
       "Canvas(toolbar=Toolbar(toolitems=[('Home', 'Reset original view', 'home', 'home'), ('Back', 'Back to previous …"
      ]
     },
     "metadata": {},
     "output_type": "display_data"
    },
    {
     "name": "stdout",
     "output_type": "stream",
     "text": [
      "1\n",
      "298.75341796875\n",
      "[-99.9422607421875, 0.0, 99.9422607421875] ['-99', '0', '99']\n",
      "[-99.9422607421875, 0.0, 99.9422607421875] ['-99', '0', '99']\n"
     ]
    },
    {
     "data": {
      "application/vnd.jupyter.widget-view+json": {
       "model_id": "a91cdc8b630b468aafb80192d8a02079",
       "version_major": 2,
       "version_minor": 0
      },
      "text/plain": [
       "Canvas(toolbar=Toolbar(toolitems=[('Home', 'Reset original view', 'home', 'home'), ('Back', 'Back to previous …"
      ]
     },
     "metadata": {},
     "output_type": "display_data"
    },
    {
     "name": "stdout",
     "output_type": "stream",
     "text": [
      "2\n",
      "298.75341796875\n",
      "[-99.9422607421875, 0.0, 99.9422607421875] ['-99', '0', '99']\n",
      "[-99.9422607421875, 0.0, 99.9422607421875] ['-99', '0', '99']\n"
     ]
    },
    {
     "data": {
      "application/vnd.jupyter.widget-view+json": {
       "model_id": "5748c3d59e414711ae245bf9a70e4040",
       "version_major": 2,
       "version_minor": 0
      },
      "text/plain": [
       "Canvas(toolbar=Toolbar(toolitems=[('Home', 'Reset original view', 'home', 'home'), ('Back', 'Back to previous …"
      ]
     },
     "metadata": {},
     "output_type": "display_data"
    },
    {
     "name": "stdout",
     "output_type": "stream",
     "text": [
      "3\n",
      "298.75341796875\n",
      "[-99.9422607421875, 0.0, 99.9422607421875] ['-99', '0', '99']\n",
      "[-99.9422607421875, 0.0, 99.9422607421875] ['-99', '0', '99']\n"
     ]
    },
    {
     "data": {
      "application/vnd.jupyter.widget-view+json": {
       "model_id": "0ac156b813444e13b5c4ee502bb467f1",
       "version_major": 2,
       "version_minor": 0
      },
      "text/plain": [
       "Canvas(toolbar=Toolbar(toolitems=[('Home', 'Reset original view', 'home', 'home'), ('Back', 'Back to previous …"
      ]
     },
     "metadata": {},
     "output_type": "display_data"
    },
    {
     "name": "stdout",
     "output_type": "stream",
     "text": [
      "4\n",
      "298.75341796875\n",
      "[-99.9422607421875, 0.0, 99.9422607421875] ['-99', '0', '99']\n",
      "[-99.9422607421875, 0.0, 99.9422607421875] ['-99', '0', '99']\n"
     ]
    },
    {
     "data": {
      "application/vnd.jupyter.widget-view+json": {
       "model_id": "969897d735f54964a118384cc2d202e7",
       "version_major": 2,
       "version_minor": 0
      },
      "text/plain": [
       "Canvas(toolbar=Toolbar(toolitems=[('Home', 'Reset original view', 'home', 'home'), ('Back', 'Back to previous …"
      ]
     },
     "metadata": {},
     "output_type": "display_data"
    },
    {
     "name": "stdout",
     "output_type": "stream",
     "text": [
      "5\n",
      "298.75341796875\n",
      "[-99.9422607421875, 0.0, 99.9422607421875] ['-99', '0', '99']\n",
      "[-99.9422607421875, 0.0, 99.9422607421875] ['-99', '0', '99']\n"
     ]
    },
    {
     "data": {
      "application/vnd.jupyter.widget-view+json": {
       "model_id": "027cee7ac3f349a7b921bdf0236b3971",
       "version_major": 2,
       "version_minor": 0
      },
      "text/plain": [
       "Canvas(toolbar=Toolbar(toolitems=[('Home', 'Reset original view', 'home', 'home'), ('Back', 'Back to previous …"
      ]
     },
     "metadata": {},
     "output_type": "display_data"
    },
    {
     "name": "stdout",
     "output_type": "stream",
     "text": [
      "6\n",
      "298.75341796875\n",
      "[-99.9422607421875, 0.0, 99.9422607421875] ['-99', '0', '99']\n",
      "[-99.9422607421875, 0.0, 99.9422607421875] ['-99', '0', '99']\n"
     ]
    },
    {
     "data": {
      "application/vnd.jupyter.widget-view+json": {
       "model_id": "9c7313ef16c84251b6b2eac334b2cc1e",
       "version_major": 2,
       "version_minor": 0
      },
      "text/plain": [
       "Canvas(toolbar=Toolbar(toolitems=[('Home', 'Reset original view', 'home', 'home'), ('Back', 'Back to previous …"
      ]
     },
     "metadata": {},
     "output_type": "display_data"
    },
    {
     "name": "stdout",
     "output_type": "stream",
     "text": [
      "7\n",
      "298.75341796875\n",
      "[-99.9422607421875, 0.0, 99.9422607421875] ['-99', '0', '99']\n",
      "[-99.9422607421875, 0.0, 99.9422607421875] ['-99', '0', '99']\n"
     ]
    },
    {
     "data": {
      "application/vnd.jupyter.widget-view+json": {
       "model_id": "bc9d9af4af664db0892e22956f3af0b4",
       "version_major": 2,
       "version_minor": 0
      },
      "text/plain": [
       "Canvas(toolbar=Toolbar(toolitems=[('Home', 'Reset original view', 'home', 'home'), ('Back', 'Back to previous …"
      ]
     },
     "metadata": {},
     "output_type": "display_data"
    },
    {
     "name": "stdout",
     "output_type": "stream",
     "text": [
      "8\n",
      "298.75341796875\n",
      "[-99.9422607421875, 0.0, 99.9422607421875] ['-99', '0', '99']\n",
      "[-99.9422607421875, 0.0, 99.9422607421875] ['-99', '0', '99']\n"
     ]
    },
    {
     "data": {
      "application/vnd.jupyter.widget-view+json": {
       "model_id": "5a751c89daed40cfb98670ccd0d90d00",
       "version_major": 2,
       "version_minor": 0
      },
      "text/plain": [
       "Canvas(toolbar=Toolbar(toolitems=[('Home', 'Reset original view', 'home', 'home'), ('Back', 'Back to previous …"
      ]
     },
     "metadata": {},
     "output_type": "display_data"
    },
    {
     "name": "stdout",
     "output_type": "stream",
     "text": [
      "9\n",
      "298.75341796875\n",
      "[-99.9422607421875, 0.0, 99.9422607421875] ['-99', '0', '99']\n",
      "[-99.9422607421875, 0.0, 99.9422607421875] ['-99', '0', '99']\n"
     ]
    },
    {
     "data": {
      "application/vnd.jupyter.widget-view+json": {
       "model_id": "9cd124afba984713b456a4ad89a68be7",
       "version_major": 2,
       "version_minor": 0
      },
      "text/plain": [
       "Canvas(toolbar=Toolbar(toolitems=[('Home', 'Reset original view', 'home', 'home'), ('Back', 'Back to previous …"
      ]
     },
     "metadata": {},
     "output_type": "display_data"
    },
    {
     "name": "stdout",
     "output_type": "stream",
     "text": [
      "10\n",
      "298.75341796875\n",
      "[-99.9422607421875, 0.0, 99.9422607421875] ['-99', '0', '99']\n",
      "[-99.9422607421875, 0.0, 99.9422607421875] ['-99', '0', '99']\n"
     ]
    },
    {
     "data": {
      "application/vnd.jupyter.widget-view+json": {
       "model_id": "c2b29e80179b4ae7b0bdc3d137f11d86",
       "version_major": 2,
       "version_minor": 0
      },
      "text/plain": [
       "Canvas(toolbar=Toolbar(toolitems=[('Home', 'Reset original view', 'home', 'home'), ('Back', 'Back to previous …"
      ]
     },
     "metadata": {},
     "output_type": "display_data"
    },
    {
     "name": "stdout",
     "output_type": "stream",
     "text": [
      "11\n",
      "298.75341796875\n",
      "[-99.9422607421875, 0.0, 99.9422607421875] ['-99', '0', '99']\n",
      "[-99.9422607421875, 0.0, 99.9422607421875] ['-99', '0', '99']\n"
     ]
    },
    {
     "data": {
      "application/vnd.jupyter.widget-view+json": {
       "model_id": "08295a36ff204f25816eff1cc13b941c",
       "version_major": 2,
       "version_minor": 0
      },
      "text/plain": [
       "Canvas(toolbar=Toolbar(toolitems=[('Home', 'Reset original view', 'home', 'home'), ('Back', 'Back to previous …"
      ]
     },
     "metadata": {},
     "output_type": "display_data"
    },
    {
     "name": "stdout",
     "output_type": "stream",
     "text": [
      "12\n",
      "298.75341796875\n",
      "[-99.9422607421875, 0.0, 99.9422607421875] ['-99', '0', '99']\n",
      "[-99.9422607421875, 0.0, 99.9422607421875] ['-99', '0', '99']\n"
     ]
    },
    {
     "data": {
      "application/vnd.jupyter.widget-view+json": {
       "model_id": "0cd85d3f7a314a49954ac287de7ef5f5",
       "version_major": 2,
       "version_minor": 0
      },
      "text/plain": [
       "Canvas(toolbar=Toolbar(toolitems=[('Home', 'Reset original view', 'home', 'home'), ('Back', 'Back to previous …"
      ]
     },
     "metadata": {},
     "output_type": "display_data"
    },
    {
     "name": "stdout",
     "output_type": "stream",
     "text": [
      "13\n",
      "298.75341796875\n",
      "[-99.9422607421875, 0.0, 99.9422607421875] ['-99', '0', '99']\n",
      "[-99.9422607421875, 0.0, 99.9422607421875] ['-99', '0', '99']\n"
     ]
    },
    {
     "data": {
      "application/vnd.jupyter.widget-view+json": {
       "model_id": "2e6e135ee64d41deb2d75bb7d91e0839",
       "version_major": 2,
       "version_minor": 0
      },
      "text/plain": [
       "Canvas(toolbar=Toolbar(toolitems=[('Home', 'Reset original view', 'home', 'home'), ('Back', 'Back to previous …"
      ]
     },
     "metadata": {},
     "output_type": "display_data"
    },
    {
     "name": "stdout",
     "output_type": "stream",
     "text": [
      "14\n",
      "298.75341796875\n",
      "[-99.9422607421875, 0.0, 99.9422607421875] ['-99', '0', '99']\n",
      "[-99.9422607421875, 0.0, 99.9422607421875] ['-99', '0', '99']\n"
     ]
    },
    {
     "data": {
      "application/vnd.jupyter.widget-view+json": {
       "model_id": "d5198e1707274b6f8b5e4c803474a688",
       "version_major": 2,
       "version_minor": 0
      },
      "text/plain": [
       "Canvas(toolbar=Toolbar(toolitems=[('Home', 'Reset original view', 'home', 'home'), ('Back', 'Back to previous …"
      ]
     },
     "metadata": {},
     "output_type": "display_data"
    },
    {
     "name": "stdout",
     "output_type": "stream",
     "text": [
      "15\n",
      "298.75341796875\n",
      "[-99.9422607421875, 0.0, 99.9422607421875] ['-99', '0', '99']\n",
      "[-99.9422607421875, 0.0, 99.9422607421875] ['-99', '0', '99']\n"
     ]
    },
    {
     "data": {
      "application/vnd.jupyter.widget-view+json": {
       "model_id": "2e9acfee19cf4525867b54fd0ae4936f",
       "version_major": 2,
       "version_minor": 0
      },
      "text/plain": [
       "Canvas(toolbar=Toolbar(toolitems=[('Home', 'Reset original view', 'home', 'home'), ('Back', 'Back to previous …"
      ]
     },
     "metadata": {},
     "output_type": "display_data"
    },
    {
     "name": "stdout",
     "output_type": "stream",
     "text": [
      "16\n",
      "298.75341796875\n",
      "[-99.9422607421875, 0.0, 99.9422607421875] ['-99', '0', '99']\n",
      "[-99.9422607421875, 0.0, 99.9422607421875] ['-99', '0', '99']\n"
     ]
    },
    {
     "data": {
      "application/vnd.jupyter.widget-view+json": {
       "model_id": "5ff509ca2cf949cba358ebf76a717d35",
       "version_major": 2,
       "version_minor": 0
      },
      "text/plain": [
       "Canvas(toolbar=Toolbar(toolitems=[('Home', 'Reset original view', 'home', 'home'), ('Back', 'Back to previous …"
      ]
     },
     "metadata": {},
     "output_type": "display_data"
    },
    {
     "name": "stdout",
     "output_type": "stream",
     "text": [
      "17\n",
      "298.75341796875\n",
      "[-99.9422607421875, 0.0, 99.9422607421875] ['-99', '0', '99']\n",
      "[-99.9422607421875, 0.0, 99.9422607421875] ['-99', '0', '99']\n"
     ]
    },
    {
     "data": {
      "application/vnd.jupyter.widget-view+json": {
       "model_id": "99610fb41dca4fb3a0ff3a681b8ce727",
       "version_major": 2,
       "version_minor": 0
      },
      "text/plain": [
       "Canvas(toolbar=Toolbar(toolitems=[('Home', 'Reset original view', 'home', 'home'), ('Back', 'Back to previous …"
      ]
     },
     "metadata": {},
     "output_type": "display_data"
    },
    {
     "name": "stdout",
     "output_type": "stream",
     "text": [
      "18\n",
      "298.75341796875\n",
      "[-99.9422607421875, 0.0, 99.9422607421875] ['-99', '0', '99']\n",
      "[-99.9422607421875, 0.0, 99.9422607421875] ['-99', '0', '99']\n"
     ]
    },
    {
     "name": "stderr",
     "output_type": "stream",
     "text": [
      "c:\\Users\\nunoa\\Anaconda2\\envs\\py36\\lib\\site-packages\\ipykernel_launcher.py:8: RuntimeWarning: More than 20 figures have been opened. Figures created through the pyplot interface (`matplotlib.pyplot.figure`) are retained until explicitly closed and may consume too much memory. (To control this warning, see the rcParam `figure.max_open_warning`).\n",
      "  \n"
     ]
    },
    {
     "data": {
      "application/vnd.jupyter.widget-view+json": {
       "model_id": "0bfc0205b6ea482481abe6c7b7822097",
       "version_major": 2,
       "version_minor": 0
      },
      "text/plain": [
       "Canvas(toolbar=Toolbar(toolitems=[('Home', 'Reset original view', 'home', 'home'), ('Back', 'Back to previous …"
      ]
     },
     "metadata": {},
     "output_type": "display_data"
    },
    {
     "name": "stdout",
     "output_type": "stream",
     "text": [
      "19\n",
      "298.75341796875\n",
      "[-99.9422607421875, 0.0, 99.9422607421875] ['-99', '0', '99']\n",
      "[-99.9422607421875, 0.0, 99.9422607421875] ['-99', '0', '99']\n"
     ]
    },
    {
     "data": {
      "application/vnd.jupyter.widget-view+json": {
       "model_id": "d882ff0a4a3e484db6dbdd7a7d593d88",
       "version_major": 2,
       "version_minor": 0
      },
      "text/plain": [
       "Canvas(toolbar=Toolbar(toolitems=[('Home', 'Reset original view', 'home', 'home'), ('Back', 'Back to previous …"
      ]
     },
     "metadata": {},
     "output_type": "display_data"
    },
    {
     "name": "stdout",
     "output_type": "stream",
     "text": [
      "20\n",
      "298.75341796875\n",
      "[-99.9422607421875, 0.0, 99.9422607421875] ['-99', '0', '99']\n",
      "[-99.9422607421875, 0.0, 99.9422607421875] ['-99', '0', '99']\n"
     ]
    },
    {
     "data": {
      "application/vnd.jupyter.widget-view+json": {
       "model_id": "8f2a5eca255348deb96a579c8c88051d",
       "version_major": 2,
       "version_minor": 0
      },
      "text/plain": [
       "Canvas(toolbar=Toolbar(toolitems=[('Home', 'Reset original view', 'home', 'home'), ('Back', 'Back to previous …"
      ]
     },
     "metadata": {},
     "output_type": "display_data"
    },
    {
     "name": "stdout",
     "output_type": "stream",
     "text": [
      "21\n",
      "298.75341796875\n",
      "[-99.9422607421875, 0.0, 99.9422607421875] ['-99', '0', '99']\n",
      "[-99.9422607421875, 0.0, 99.9422607421875] ['-99', '0', '99']\n"
     ]
    },
    {
     "data": {
      "application/vnd.jupyter.widget-view+json": {
       "model_id": "6eaf67cdc0b84b12b2859a01ee6f59dd",
       "version_major": 2,
       "version_minor": 0
      },
      "text/plain": [
       "Canvas(toolbar=Toolbar(toolitems=[('Home', 'Reset original view', 'home', 'home'), ('Back', 'Back to previous …"
      ]
     },
     "metadata": {},
     "output_type": "display_data"
    },
    {
     "name": "stdout",
     "output_type": "stream",
     "text": [
      "22\n",
      "298.75341796875\n",
      "[-99.9422607421875, 0.0, 99.9422607421875] ['-99', '0', '99']\n",
      "[-99.9422607421875, 0.0, 99.9422607421875] ['-99', '0', '99']\n"
     ]
    },
    {
     "data": {
      "application/vnd.jupyter.widget-view+json": {
       "model_id": "5d06971548e443d0a51c8b5eb60d775d",
       "version_major": 2,
       "version_minor": 0
      },
      "text/plain": [
       "Canvas(toolbar=Toolbar(toolitems=[('Home', 'Reset original view', 'home', 'home'), ('Back', 'Back to previous …"
      ]
     },
     "metadata": {},
     "output_type": "display_data"
    },
    {
     "name": "stdout",
     "output_type": "stream",
     "text": [
      "23\n",
      "298.75341796875\n",
      "[-99.9422607421875, 0.0, 99.9422607421875] ['-99', '0', '99']\n",
      "[-99.9422607421875, 0.0, 99.9422607421875] ['-99', '0', '99']\n"
     ]
    },
    {
     "data": {
      "application/vnd.jupyter.widget-view+json": {
       "model_id": "7ebb6fe167f54041a2f6256ad327391a",
       "version_major": 2,
       "version_minor": 0
      },
      "text/plain": [
       "Canvas(toolbar=Toolbar(toolitems=[('Home', 'Reset original view', 'home', 'home'), ('Back', 'Back to previous …"
      ]
     },
     "metadata": {},
     "output_type": "display_data"
    },
    {
     "name": "stdout",
     "output_type": "stream",
     "text": [
      "24\n",
      "298.75341796875\n",
      "[-99.9422607421875, 0.0, 99.9422607421875] ['-99', '0', '99']\n",
      "[-99.9422607421875, 0.0, 99.9422607421875] ['-99', '0', '99']\n"
     ]
    },
    {
     "data": {
      "application/vnd.jupyter.widget-view+json": {
       "model_id": "fd6ff832d9004d309538d7faf7a960f5",
       "version_major": 2,
       "version_minor": 0
      },
      "text/plain": [
       "Canvas(toolbar=Toolbar(toolitems=[('Home', 'Reset original view', 'home', 'home'), ('Back', 'Back to previous …"
      ]
     },
     "metadata": {},
     "output_type": "display_data"
    },
    {
     "name": "stdout",
     "output_type": "stream",
     "text": [
      "25\n",
      "298.75341796875\n",
      "[-99.9422607421875, 0.0, 99.9422607421875] ['-99', '0', '99']\n",
      "[-99.9422607421875, 0.0, 99.9422607421875] ['-99', '0', '99']\n"
     ]
    },
    {
     "data": {
      "application/vnd.jupyter.widget-view+json": {
       "model_id": "a3d4dcef566c46538d058ba50868bd54",
       "version_major": 2,
       "version_minor": 0
      },
      "text/plain": [
       "Canvas(toolbar=Toolbar(toolitems=[('Home', 'Reset original view', 'home', 'home'), ('Back', 'Back to previous …"
      ]
     },
     "metadata": {},
     "output_type": "display_data"
    },
    {
     "name": "stdout",
     "output_type": "stream",
     "text": [
      "26\n",
      "298.75341796875\n",
      "[-99.9422607421875, 0.0, 99.9422607421875] ['-99', '0', '99']\n",
      "[-99.9422607421875, 0.0, 99.9422607421875] ['-99', '0', '99']\n"
     ]
    },
    {
     "data": {
      "application/vnd.jupyter.widget-view+json": {
       "model_id": "1fe61642586b4865a7e862d3d6e967ac",
       "version_major": 2,
       "version_minor": 0
      },
      "text/plain": [
       "Canvas(toolbar=Toolbar(toolitems=[('Home', 'Reset original view', 'home', 'home'), ('Back', 'Back to previous …"
      ]
     },
     "metadata": {},
     "output_type": "display_data"
    },
    {
     "name": "stdout",
     "output_type": "stream",
     "text": [
      "27\n",
      "298.75341796875\n",
      "[-99.9422607421875, 0.0, 99.9422607421875] ['-99', '0', '99']\n",
      "[-99.9422607421875, 0.0, 99.9422607421875] ['-99', '0', '99']\n"
     ]
    },
    {
     "data": {
      "application/vnd.jupyter.widget-view+json": {
       "model_id": "91a36b8a542148c18a24e5ef9ebc1b5d",
       "version_major": 2,
       "version_minor": 0
      },
      "text/plain": [
       "Canvas(toolbar=Toolbar(toolitems=[('Home', 'Reset original view', 'home', 'home'), ('Back', 'Back to previous …"
      ]
     },
     "metadata": {},
     "output_type": "display_data"
    },
    {
     "name": "stdout",
     "output_type": "stream",
     "text": [
      "28\n",
      "298.75341796875\n",
      "[-99.9422607421875, 0.0, 99.9422607421875] ['-99', '0', '99']\n",
      "[-99.9422607421875, 0.0, 99.9422607421875] ['-99', '0', '99']\n"
     ]
    },
    {
     "data": {
      "application/vnd.jupyter.widget-view+json": {
       "model_id": "684f9e897697432e9ce5a7561bded7c0",
       "version_major": 2,
       "version_minor": 0
      },
      "text/plain": [
       "Canvas(toolbar=Toolbar(toolitems=[('Home', 'Reset original view', 'home', 'home'), ('Back', 'Back to previous …"
      ]
     },
     "metadata": {},
     "output_type": "display_data"
    },
    {
     "name": "stdout",
     "output_type": "stream",
     "text": [
      "29\n",
      "298.75341796875\n",
      "[-99.9422607421875, 0.0, 99.9422607421875] ['-99', '0', '99']\n",
      "[-99.9422607421875, 0.0, 99.9422607421875] ['-99', '0', '99']\n"
     ]
    },
    {
     "data": {
      "application/vnd.jupyter.widget-view+json": {
       "model_id": "ecf3a8cda5da4026a1427f719d1525bc",
       "version_major": 2,
       "version_minor": 0
      },
      "text/plain": [
       "Canvas(toolbar=Toolbar(toolitems=[('Home', 'Reset original view', 'home', 'home'), ('Back', 'Back to previous …"
      ]
     },
     "metadata": {},
     "output_type": "display_data"
    },
    {
     "name": "stdout",
     "output_type": "stream",
     "text": [
      "30\n",
      "298.75341796875\n",
      "[-99.9422607421875, 0.0, 99.9422607421875] ['-99', '0', '99']\n",
      "[-99.9422607421875, 0.0, 99.9422607421875] ['-99', '0', '99']\n"
     ]
    },
    {
     "data": {
      "application/vnd.jupyter.widget-view+json": {
       "model_id": "35b1bd237e4c4bb4815044b9f5231e63",
       "version_major": 2,
       "version_minor": 0
      },
      "text/plain": [
       "Canvas(toolbar=Toolbar(toolitems=[('Home', 'Reset original view', 'home', 'home'), ('Back', 'Back to previous …"
      ]
     },
     "metadata": {},
     "output_type": "display_data"
    },
    {
     "name": "stdout",
     "output_type": "stream",
     "text": [
      "31\n",
      "298.75341796875\n",
      "[-99.9422607421875, 0.0, 99.9422607421875] ['-99', '0', '99']\n",
      "[-99.9422607421875, 0.0, 99.9422607421875] ['-99', '0', '99']\n"
     ]
    },
    {
     "data": {
      "application/vnd.jupyter.widget-view+json": {
       "model_id": "9d4cd8083f88459da8032c6f66c546b6",
       "version_major": 2,
       "version_minor": 0
      },
      "text/plain": [
       "Canvas(toolbar=Toolbar(toolitems=[('Home', 'Reset original view', 'home', 'home'), ('Back', 'Back to previous …"
      ]
     },
     "metadata": {},
     "output_type": "display_data"
    },
    {
     "name": "stdout",
     "output_type": "stream",
     "text": [
      "32\n",
      "298.75341796875\n",
      "[-99.9422607421875, 0.0, 99.9422607421875] ['-99', '0', '99']\n",
      "[-99.9422607421875, 0.0, 99.9422607421875] ['-99', '0', '99']\n"
     ]
    },
    {
     "data": {
      "application/vnd.jupyter.widget-view+json": {
       "model_id": "d44631819f2d4f3d9ac3fb0cac98bbce",
       "version_major": 2,
       "version_minor": 0
      },
      "text/plain": [
       "Canvas(toolbar=Toolbar(toolitems=[('Home', 'Reset original view', 'home', 'home'), ('Back', 'Back to previous …"
      ]
     },
     "metadata": {},
     "output_type": "display_data"
    },
    {
     "name": "stdout",
     "output_type": "stream",
     "text": [
      "33\n",
      "298.75341796875\n",
      "[-99.9422607421875, 0.0, 99.9422607421875] ['-99', '0', '99']\n",
      "[-99.9422607421875, 0.0, 99.9422607421875] ['-99', '0', '99']\n"
     ]
    },
    {
     "data": {
      "application/vnd.jupyter.widget-view+json": {
       "model_id": "5fa763c8e9e64d76a6209b7bbae023a1",
       "version_major": 2,
       "version_minor": 0
      },
      "text/plain": [
       "Canvas(toolbar=Toolbar(toolitems=[('Home', 'Reset original view', 'home', 'home'), ('Back', 'Back to previous …"
      ]
     },
     "metadata": {},
     "output_type": "display_data"
    },
    {
     "name": "stdout",
     "output_type": "stream",
     "text": [
      "34\n",
      "298.75341796875\n",
      "[-99.9422607421875, 0.0, 99.9422607421875] ['-99', '0', '99']\n",
      "[-99.9422607421875, 0.0, 99.9422607421875] ['-99', '0', '99']\n"
     ]
    },
    {
     "data": {
      "application/vnd.jupyter.widget-view+json": {
       "model_id": "933cf3e810174d818595663ffa4a56e6",
       "version_major": 2,
       "version_minor": 0
      },
      "text/plain": [
       "Canvas(toolbar=Toolbar(toolitems=[('Home', 'Reset original view', 'home', 'home'), ('Back', 'Back to previous …"
      ]
     },
     "metadata": {},
     "output_type": "display_data"
    },
    {
     "name": "stdout",
     "output_type": "stream",
     "text": [
      "35\n",
      "298.75341796875\n",
      "[-99.9422607421875, 0.0, 99.9422607421875] ['-99', '0', '99']\n",
      "[-99.9422607421875, 0.0, 99.9422607421875] ['-99', '0', '99']\n"
     ]
    },
    {
     "data": {
      "application/vnd.jupyter.widget-view+json": {
       "model_id": "246004baba434e7d991bed74448ce7b2",
       "version_major": 2,
       "version_minor": 0
      },
      "text/plain": [
       "Canvas(toolbar=Toolbar(toolitems=[('Home', 'Reset original view', 'home', 'home'), ('Back', 'Back to previous …"
      ]
     },
     "metadata": {},
     "output_type": "display_data"
    },
    {
     "name": "stdout",
     "output_type": "stream",
     "text": [
      "36\n",
      "298.75341796875\n",
      "[-99.9422607421875, 0.0, 99.9422607421875] ['-99', '0', '99']\n",
      "[-99.9422607421875, 0.0, 99.9422607421875] ['-99', '0', '99']\n"
     ]
    },
    {
     "data": {
      "application/vnd.jupyter.widget-view+json": {
       "model_id": "a3da5e148a414fd0a41f41468afa7b4c",
       "version_major": 2,
       "version_minor": 0
      },
      "text/plain": [
       "Canvas(toolbar=Toolbar(toolitems=[('Home', 'Reset original view', 'home', 'home'), ('Back', 'Back to previous …"
      ]
     },
     "metadata": {},
     "output_type": "display_data"
    },
    {
     "name": "stdout",
     "output_type": "stream",
     "text": [
      "37\n",
      "298.75341796875\n",
      "[-99.9422607421875, 0.0, 99.9422607421875] ['-99', '0', '99']\n",
      "[-99.9422607421875, 0.0, 99.9422607421875] ['-99', '0', '99']\n"
     ]
    },
    {
     "data": {
      "application/vnd.jupyter.widget-view+json": {
       "model_id": "a040390a77384ef991b692609e5ec325",
       "version_major": 2,
       "version_minor": 0
      },
      "text/plain": [
       "Canvas(toolbar=Toolbar(toolitems=[('Home', 'Reset original view', 'home', 'home'), ('Back', 'Back to previous …"
      ]
     },
     "metadata": {},
     "output_type": "display_data"
    },
    {
     "name": "stdout",
     "output_type": "stream",
     "text": [
      "38\n",
      "298.75341796875\n",
      "[-99.9422607421875, 0.0, 99.9422607421875] ['-99', '0', '99']\n",
      "[-99.9422607421875, 0.0, 99.9422607421875] ['-99', '0', '99']\n"
     ]
    },
    {
     "data": {
      "application/vnd.jupyter.widget-view+json": {
       "model_id": "98716281986e4ef9a84676b2a5aa131a",
       "version_major": 2,
       "version_minor": 0
      },
      "text/plain": [
       "Canvas(toolbar=Toolbar(toolitems=[('Home', 'Reset original view', 'home', 'home'), ('Back', 'Back to previous …"
      ]
     },
     "metadata": {},
     "output_type": "display_data"
    },
    {
     "name": "stdout",
     "output_type": "stream",
     "text": [
      "39\n",
      "298.75341796875\n",
      "[-99.9422607421875, 0.0, 99.9422607421875] ['-99', '0', '99']\n",
      "[-99.9422607421875, 0.0, 99.9422607421875] ['-99', '0', '99']\n"
     ]
    },
    {
     "data": {
      "application/vnd.jupyter.widget-view+json": {
       "model_id": "e13471fe868544c9b878cfd79df1919f",
       "version_major": 2,
       "version_minor": 0
      },
      "text/plain": [
       "Canvas(toolbar=Toolbar(toolitems=[('Home', 'Reset original view', 'home', 'home'), ('Back', 'Back to previous …"
      ]
     },
     "metadata": {},
     "output_type": "display_data"
    },
    {
     "name": "stdout",
     "output_type": "stream",
     "text": [
      "40\n",
      "298.75341796875\n",
      "[-99.9422607421875, 0.0, 99.9422607421875] ['-99', '0', '99']\n",
      "[-99.9422607421875, 0.0, 99.9422607421875] ['-99', '0', '99']\n"
     ]
    },
    {
     "data": {
      "application/vnd.jupyter.widget-view+json": {
       "model_id": "5861579ae4f44cfea2bc379863083f23",
       "version_major": 2,
       "version_minor": 0
      },
      "text/plain": [
       "Canvas(toolbar=Toolbar(toolitems=[('Home', 'Reset original view', 'home', 'home'), ('Back', 'Back to previous …"
      ]
     },
     "metadata": {},
     "output_type": "display_data"
    },
    {
     "name": "stdout",
     "output_type": "stream",
     "text": [
      "41\n",
      "298.75341796875\n",
      "[-99.9422607421875, 0.0, 99.9422607421875] ['-99', '0', '99']\n",
      "[-99.9422607421875, 0.0, 99.9422607421875] ['-99', '0', '99']\n"
     ]
    },
    {
     "data": {
      "application/vnd.jupyter.widget-view+json": {
       "model_id": "1e5a8d3fc6074c14bff3fa96362cb9d0",
       "version_major": 2,
       "version_minor": 0
      },
      "text/plain": [
       "Canvas(toolbar=Toolbar(toolitems=[('Home', 'Reset original view', 'home', 'home'), ('Back', 'Back to previous …"
      ]
     },
     "metadata": {},
     "output_type": "display_data"
    },
    {
     "name": "stdout",
     "output_type": "stream",
     "text": [
      "42\n",
      "298.75341796875\n",
      "[-99.9422607421875, 0.0, 99.9422607421875] ['-99', '0', '99']\n",
      "[-99.9422607421875, 0.0, 99.9422607421875] ['-99', '0', '99']\n"
     ]
    },
    {
     "data": {
      "application/vnd.jupyter.widget-view+json": {
       "model_id": "df4593a811754721b74561d8a591cc19",
       "version_major": 2,
       "version_minor": 0
      },
      "text/plain": [
       "Canvas(toolbar=Toolbar(toolitems=[('Home', 'Reset original view', 'home', 'home'), ('Back', 'Back to previous …"
      ]
     },
     "metadata": {},
     "output_type": "display_data"
    },
    {
     "name": "stdout",
     "output_type": "stream",
     "text": [
      "43\n",
      "298.75341796875\n",
      "[-99.9422607421875, 0.0, 99.9422607421875] ['-99', '0', '99']\n",
      "[-99.9422607421875, 0.0, 99.9422607421875] ['-99', '0', '99']\n"
     ]
    },
    {
     "data": {
      "application/vnd.jupyter.widget-view+json": {
       "model_id": "07d75c0b79fc43f6bf4016282b6d953b",
       "version_major": 2,
       "version_minor": 0
      },
      "text/plain": [
       "Canvas(toolbar=Toolbar(toolitems=[('Home', 'Reset original view', 'home', 'home'), ('Back', 'Back to previous …"
      ]
     },
     "metadata": {},
     "output_type": "display_data"
    },
    {
     "name": "stdout",
     "output_type": "stream",
     "text": [
      "44\n",
      "298.75341796875\n",
      "[-99.9422607421875, 0.0, 99.9422607421875] ['-99', '0', '99']\n",
      "[-99.9422607421875, 0.0, 99.9422607421875] ['-99', '0', '99']\n"
     ]
    },
    {
     "data": {
      "application/vnd.jupyter.widget-view+json": {
       "model_id": "aee952303fab48739427f411124823c6",
       "version_major": 2,
       "version_minor": 0
      },
      "text/plain": [
       "Canvas(toolbar=Toolbar(toolitems=[('Home', 'Reset original view', 'home', 'home'), ('Back', 'Back to previous …"
      ]
     },
     "metadata": {},
     "output_type": "display_data"
    },
    {
     "name": "stdout",
     "output_type": "stream",
     "text": [
      "45\n",
      "298.75341796875\n",
      "[-99.9422607421875, 0.0, 99.9422607421875] ['-99', '0', '99']\n",
      "[-99.9422607421875, 0.0, 99.9422607421875] ['-99', '0', '99']\n"
     ]
    },
    {
     "data": {
      "application/vnd.jupyter.widget-view+json": {
       "model_id": "3852d176aa65419087f78797a40908b3",
       "version_major": 2,
       "version_minor": 0
      },
      "text/plain": [
       "Canvas(toolbar=Toolbar(toolitems=[('Home', 'Reset original view', 'home', 'home'), ('Back', 'Back to previous …"
      ]
     },
     "metadata": {},
     "output_type": "display_data"
    },
    {
     "name": "stdout",
     "output_type": "stream",
     "text": [
      "46\n",
      "298.75341796875\n",
      "[-99.9422607421875, 0.0, 99.9422607421875] ['-99', '0', '99']\n",
      "[-99.9422607421875, 0.0, 99.9422607421875] ['-99', '0', '99']\n"
     ]
    },
    {
     "data": {
      "application/vnd.jupyter.widget-view+json": {
       "model_id": "9ecc2b1251844ad298e7ce4f72358805",
       "version_major": 2,
       "version_minor": 0
      },
      "text/plain": [
       "Canvas(toolbar=Toolbar(toolitems=[('Home', 'Reset original view', 'home', 'home'), ('Back', 'Back to previous …"
      ]
     },
     "metadata": {},
     "output_type": "display_data"
    },
    {
     "name": "stdout",
     "output_type": "stream",
     "text": [
      "47\n",
      "298.75341796875\n",
      "[-99.9422607421875, 0.0, 99.9422607421875] ['-99', '0', '99']\n",
      "[-99.9422607421875, 0.0, 99.9422607421875] ['-99', '0', '99']\n"
     ]
    },
    {
     "data": {
      "application/vnd.jupyter.widget-view+json": {
       "model_id": "fc375b52c50841fd89d0e16038b69f6c",
       "version_major": 2,
       "version_minor": 0
      },
      "text/plain": [
       "Canvas(toolbar=Toolbar(toolitems=[('Home', 'Reset original view', 'home', 'home'), ('Back', 'Back to previous …"
      ]
     },
     "metadata": {},
     "output_type": "display_data"
    },
    {
     "name": "stdout",
     "output_type": "stream",
     "text": [
      "48\n",
      "298.75341796875\n",
      "[-99.9422607421875, 0.0, 99.9422607421875] ['-99', '0', '99']\n",
      "[-99.9422607421875, 0.0, 99.9422607421875] ['-99', '0', '99']\n"
     ]
    },
    {
     "data": {
      "application/vnd.jupyter.widget-view+json": {
       "model_id": "ea4b0707d28f48cc9c32c1a872a8692c",
       "version_major": 2,
       "version_minor": 0
      },
      "text/plain": [
       "Canvas(toolbar=Toolbar(toolitems=[('Home', 'Reset original view', 'home', 'home'), ('Back', 'Back to previous …"
      ]
     },
     "metadata": {},
     "output_type": "display_data"
    },
    {
     "name": "stdout",
     "output_type": "stream",
     "text": [
      "49\n",
      "298.75341796875\n",
      "[-99.9422607421875, 0.0, 99.9422607421875] ['-99', '0', '99']\n",
      "[-99.9422607421875, 0.0, 99.9422607421875] ['-99', '0', '99']\n"
     ]
    }
   ],
   "source": [
    "## Ex make a plot with 2x2 = 4 panels with amplitude and phase for two distinct z side by side\n",
    "\n",
    "\n",
    "for iqq in range(1,len(sim_state)):\n",
    "    plots_x, plots_y = 1,2\n",
    "    sizex = 4\n",
    "    sizey = 4\n",
    "    fig,ax=plt.subplots(plots_x,plots_y,figsize=[sizex*plots_y,sizey*plots_x])\n",
    "\n",
    "    if plots_x == 1:\n",
    "        ax = [ax]\n",
    "    list_z_index = [iqq]\n",
    "    for i,iz in enumerate(list_z_index):\n",
    "        print(iz)\n",
    "        #########Compute Region of interest##################\n",
    "        ROI_state = get_ROI_CM(sim_state[iz], wx=300,wy=200, \n",
    "                factor_t=SBN_sim.factor_t,dx=SBN_sim.dx*1e6,dy=SBN_sim.dy*1e6)\n",
    "\n",
    "        if i!=plots_x-1:\n",
    "            ticks_amplitude = 'y'\n",
    "            ticks_phase = None\n",
    "        else: \n",
    "            ticks_amplitude = 'xy'\n",
    "            ticks_phase = 'x'\n",
    "\n",
    "\n",
    "        plot_intensity(ax[i][0],sim_state[iz],\n",
    "                    SBN_sim.dx/factor_t*1e6,SBN_sim.dy/factor_t*1e6,\n",
    "                    ROI=ROI_state,\n",
    "                    cmap=cmocean.cm.speed_r,plot_label='',z_value = np.round(zz[iz]/SBN_sim.factor_z,2),\n",
    "                    ticks=ticks_amplitude)\n",
    "\n",
    "        plot_phase(ax[i][1],sim_state[iz],\n",
    "                SBN_sim.dx/factor_t*1e6,SBN_sim.dy/factor_t*1e6,\n",
    "                ROI=ROI_state,\n",
    "                cmap=plt.cm.twilight_shifted,\n",
    "                ticks=ticks_phase)\n",
    "\n",
    "    fig.tight_layout()\n",
    "    plt.savefig(str(iqq)+'.png',dpi=300)"
   ]
  },
  {
   "cell_type": "markdown",
   "metadata": {},
   "source": [
    "## Exercise 2. Compute the Momentum for each z"
   ]
  },
  {
   "cell_type": "code",
   "execution_count": 49,
   "metadata": {},
   "outputs": [
    {
     "name": "stdout",
     "output_type": "stream",
     "text": [
      "19  of  20\r"
     ]
    },
    {
     "data": {
      "application/vnd.jupyter.widget-view+json": {
       "model_id": "ad6a1de9e67147f5ab002a04fe01ae22",
       "version_major": 2,
       "version_minor": 0
      },
      "text/plain": [
       "Canvas(toolbar=Toolbar(toolitems=[('Home', 'Reset original view', 'home', 'home'), ('Back', 'Back to previous …"
      ]
     },
     "metadata": {},
     "output_type": "display_data"
    },
    {
     "name": "stderr",
     "output_type": "stream",
     "text": [
      "c:\\Users\\nunoa\\Anaconda2\\envs\\py36\\lib\\site-packages\\numpy\\core\\_asarray.py:83: ComplexWarning: Casting complex values to real discards the imaginary part\n",
      "  return array(a, dtype, copy=False, order=order)\n",
      "c:\\Users\\nunoa\\Anaconda2\\envs\\py36\\lib\\site-packages\\numpy\\core\\_asarray.py:83: ComplexWarning: Casting complex values to real discards the imaginary part\n",
      "  return array(a, dtype, copy=False, order=order)\n"
     ]
    },
    {
     "data": {
      "text/plain": [
       "Text(0, 0.5, '$P_y/P_{y0}$ (ar.un)')"
      ]
     },
     "execution_count": 49,
     "metadata": {},
     "output_type": "execute_result"
    }
   ],
   "source": [
    "def momentum(state,dx,dy):\n",
    "    derivative_x = (np.roll(state,1,axis=1)-np.roll(state,-1,axis=1)) / (2*dx)\n",
    "    derivative_y =(np.roll(state,1,axis=0)-np.roll(state,-1,axis=0)) / (2*dy)\n",
    "    momentum_x = np.sum(1j*np.conj(state)*derivative_x)/2\n",
    "    momentum_y = np.sum(1j*np.conj(state)*derivative_y)/2\n",
    "    return momentum_x, momentum_y\n",
    "\n",
    "\n",
    "pxs=[]\n",
    "pys=[]\n",
    "for iz in range(0,sim_state.shape[0]):\n",
    "    print(iz, ' of ', str(sim_state.shape[0]),end='\\r')\n",
    "    px,py = momentum(sim_state[iz],dx=1,dy=1)\n",
    "    pxs.append(px)\n",
    "    pys.append(py)\n",
    "\n",
    "pxs=np.array(pxs)\n",
    "pxs=pxs/pxs[0]\n",
    "\n",
    "pys=np.array(pys)\n",
    "pys=pys/pys[0]\n",
    "\n",
    "fig,ax = plt.subplots()\n",
    "ax.plot(pxs,color='k')\n",
    "ax.set_xlabel('index')\n",
    "ax.set_ylabel('$P_x/P_{x0}$ (ar.un)')\n",
    "ax1=ax.twinx()\n",
    "ax1.plot(pys,color='seagreen')\n",
    "ax1.set_ylabel('$P_y/P_{y0}$ (ar.un)',color='seagreen')"
   ]
  },
  {
   "cell_type": "code",
   "execution_count": null,
   "metadata": {},
   "outputs": [],
   "source": []
  }
 ],
 "metadata": {
  "kernelspec": {
   "display_name": "py36",
   "language": "python",
   "name": "python3"
  },
  "language_info": {
   "codemirror_mode": {
    "name": "ipython",
    "version": 3
   },
   "file_extension": ".py",
   "mimetype": "text/x-python",
   "name": "python",
   "nbconvert_exporter": "python",
   "pygments_lexer": "ipython3",
   "version": "3.6.12"
  }
 },
 "nbformat": 4,
 "nbformat_minor": 2
}
